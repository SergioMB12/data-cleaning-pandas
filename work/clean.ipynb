{
 "cells": [
  {
   "cell_type": "markdown",
   "id": "1ac77748",
   "metadata": {},
   "source": [
    "# Proyecto shark attacks Ironhack:\n",
    "\n",
    "-Analisis de los datos y limpieza (planteamiento hipotesis)\n",
    "\n",
    "Sergio Molina Biaggini "
   ]
  },
  {
   "cell_type": "markdown",
   "id": "14f07812",
   "metadata": {},
   "source": [
    "1-Analisis de los datos"
   ]
  },
  {
   "cell_type": "code",
   "execution_count": 1,
   "id": "085f35f0",
   "metadata": {},
   "outputs": [],
   "source": [
    "import pandas as pd\n",
    "import numpy as np\n",
    "import re\n",
    "import matplotlib.pyplot as plt\n",
    "import seaborn as sns\n",
    "#Importo las librerias que voy a usar o creo que puedo usar en mi proyecto"
   ]
  },
  {
   "cell_type": "code",
   "execution_count": 2,
   "id": "39d0941e",
   "metadata": {},
   "outputs": [],
   "source": [
    "import sys\n",
    "sys.path.append(\"../\")\n",
    "from src.funciones_shark import * \n",
    "#Con estas lineas de codigo , puedo usar las funciones ya definidas en mi carpeta SRC"
   ]
  },
  {
   "cell_type": "code",
   "execution_count": 3,
   "id": "50784429",
   "metadata": {},
   "outputs": [
    {
     "data": {
      "text/html": [
       "<div>\n",
       "<style scoped>\n",
       "    .dataframe tbody tr th:only-of-type {\n",
       "        vertical-align: middle;\n",
       "    }\n",
       "\n",
       "    .dataframe tbody tr th {\n",
       "        vertical-align: top;\n",
       "    }\n",
       "\n",
       "    .dataframe thead th {\n",
       "        text-align: right;\n",
       "    }\n",
       "</style>\n",
       "<table border=\"1\" class=\"dataframe\">\n",
       "  <thead>\n",
       "    <tr style=\"text-align: right;\">\n",
       "      <th></th>\n",
       "      <th>Case Number</th>\n",
       "      <th>Date</th>\n",
       "      <th>Year</th>\n",
       "      <th>Type</th>\n",
       "      <th>Country</th>\n",
       "      <th>Area</th>\n",
       "      <th>Location</th>\n",
       "      <th>Activity</th>\n",
       "      <th>Name</th>\n",
       "      <th>Sex</th>\n",
       "      <th>...</th>\n",
       "      <th>Species</th>\n",
       "      <th>Investigator or Source</th>\n",
       "      <th>pdf</th>\n",
       "      <th>href formula</th>\n",
       "      <th>href</th>\n",
       "      <th>Case Number.1</th>\n",
       "      <th>Case Number.2</th>\n",
       "      <th>original order</th>\n",
       "      <th>Unnamed: 22</th>\n",
       "      <th>Unnamed: 23</th>\n",
       "    </tr>\n",
       "  </thead>\n",
       "  <tbody>\n",
       "    <tr>\n",
       "      <th>0</th>\n",
       "      <td>2018.06.25</td>\n",
       "      <td>25-Jun-2018</td>\n",
       "      <td>2018.0</td>\n",
       "      <td>Boating</td>\n",
       "      <td>USA</td>\n",
       "      <td>California</td>\n",
       "      <td>Oceanside, San Diego County</td>\n",
       "      <td>Paddling</td>\n",
       "      <td>Julie Wolfe</td>\n",
       "      <td>F</td>\n",
       "      <td>...</td>\n",
       "      <td>White shark</td>\n",
       "      <td>R. Collier, GSAF</td>\n",
       "      <td>2018.06.25-Wolfe.pdf</td>\n",
       "      <td>http://sharkattackfile.net/spreadsheets/pdf_di...</td>\n",
       "      <td>http://sharkattackfile.net/spreadsheets/pdf_di...</td>\n",
       "      <td>2018.06.25</td>\n",
       "      <td>2018.06.25</td>\n",
       "      <td>6303.0</td>\n",
       "      <td>NaN</td>\n",
       "      <td>NaN</td>\n",
       "    </tr>\n",
       "    <tr>\n",
       "      <th>1</th>\n",
       "      <td>2018.06.18</td>\n",
       "      <td>18-Jun-2018</td>\n",
       "      <td>2018.0</td>\n",
       "      <td>Unprovoked</td>\n",
       "      <td>USA</td>\n",
       "      <td>Georgia</td>\n",
       "      <td>St. Simon Island, Glynn County</td>\n",
       "      <td>Standing</td>\n",
       "      <td>Adyson McNeely</td>\n",
       "      <td>F</td>\n",
       "      <td>...</td>\n",
       "      <td>NaN</td>\n",
       "      <td>K.McMurray, TrackingSharks.com</td>\n",
       "      <td>2018.06.18-McNeely.pdf</td>\n",
       "      <td>http://sharkattackfile.net/spreadsheets/pdf_di...</td>\n",
       "      <td>http://sharkattackfile.net/spreadsheets/pdf_di...</td>\n",
       "      <td>2018.06.18</td>\n",
       "      <td>2018.06.18</td>\n",
       "      <td>6302.0</td>\n",
       "      <td>NaN</td>\n",
       "      <td>NaN</td>\n",
       "    </tr>\n",
       "    <tr>\n",
       "      <th>2</th>\n",
       "      <td>2018.06.09</td>\n",
       "      <td>09-Jun-2018</td>\n",
       "      <td>2018.0</td>\n",
       "      <td>Invalid</td>\n",
       "      <td>USA</td>\n",
       "      <td>Hawaii</td>\n",
       "      <td>Habush, Oahu</td>\n",
       "      <td>Surfing</td>\n",
       "      <td>John Denges</td>\n",
       "      <td>M</td>\n",
       "      <td>...</td>\n",
       "      <td>NaN</td>\n",
       "      <td>K.McMurray, TrackingSharks.com</td>\n",
       "      <td>2018.06.09-Denges.pdf</td>\n",
       "      <td>http://sharkattackfile.net/spreadsheets/pdf_di...</td>\n",
       "      <td>http://sharkattackfile.net/spreadsheets/pdf_di...</td>\n",
       "      <td>2018.06.09</td>\n",
       "      <td>2018.06.09</td>\n",
       "      <td>6301.0</td>\n",
       "      <td>NaN</td>\n",
       "      <td>NaN</td>\n",
       "    </tr>\n",
       "    <tr>\n",
       "      <th>3</th>\n",
       "      <td>2018.06.08</td>\n",
       "      <td>08-Jun-2018</td>\n",
       "      <td>2018.0</td>\n",
       "      <td>Unprovoked</td>\n",
       "      <td>AUSTRALIA</td>\n",
       "      <td>New South Wales</td>\n",
       "      <td>Arrawarra Headland</td>\n",
       "      <td>Surfing</td>\n",
       "      <td>male</td>\n",
       "      <td>M</td>\n",
       "      <td>...</td>\n",
       "      <td>2 m shark</td>\n",
       "      <td>B. Myatt, GSAF</td>\n",
       "      <td>2018.06.08-Arrawarra.pdf</td>\n",
       "      <td>http://sharkattackfile.net/spreadsheets/pdf_di...</td>\n",
       "      <td>http://sharkattackfile.net/spreadsheets/pdf_di...</td>\n",
       "      <td>2018.06.08</td>\n",
       "      <td>2018.06.08</td>\n",
       "      <td>6300.0</td>\n",
       "      <td>NaN</td>\n",
       "      <td>NaN</td>\n",
       "    </tr>\n",
       "  </tbody>\n",
       "</table>\n",
       "<p>4 rows × 24 columns</p>\n",
       "</div>"
      ],
      "text/plain": [
       "  Case Number         Date    Year        Type    Country             Area  \\\n",
       "0  2018.06.25  25-Jun-2018  2018.0     Boating        USA       California   \n",
       "1  2018.06.18  18-Jun-2018  2018.0  Unprovoked        USA          Georgia   \n",
       "2  2018.06.09  09-Jun-2018  2018.0     Invalid        USA           Hawaii   \n",
       "3  2018.06.08  08-Jun-2018  2018.0  Unprovoked  AUSTRALIA  New South Wales   \n",
       "\n",
       "                         Location  Activity             Name Sex   ...  \\\n",
       "0     Oceanside, San Diego County  Paddling      Julie Wolfe    F  ...   \n",
       "1  St. Simon Island, Glynn County  Standing  Adyson McNeely     F  ...   \n",
       "2                    Habush, Oahu   Surfing      John Denges    M  ...   \n",
       "3              Arrawarra Headland   Surfing             male    M  ...   \n",
       "\n",
       "      Species           Investigator or Source                       pdf  \\\n",
       "0  White shark                R. Collier, GSAF      2018.06.25-Wolfe.pdf   \n",
       "1          NaN  K.McMurray, TrackingSharks.com    2018.06.18-McNeely.pdf   \n",
       "2          NaN  K.McMurray, TrackingSharks.com     2018.06.09-Denges.pdf   \n",
       "3    2 m shark                  B. Myatt, GSAF  2018.06.08-Arrawarra.pdf   \n",
       "\n",
       "                                        href formula  \\\n",
       "0  http://sharkattackfile.net/spreadsheets/pdf_di...   \n",
       "1  http://sharkattackfile.net/spreadsheets/pdf_di...   \n",
       "2  http://sharkattackfile.net/spreadsheets/pdf_di...   \n",
       "3  http://sharkattackfile.net/spreadsheets/pdf_di...   \n",
       "\n",
       "                                                href Case Number.1  \\\n",
       "0  http://sharkattackfile.net/spreadsheets/pdf_di...    2018.06.25   \n",
       "1  http://sharkattackfile.net/spreadsheets/pdf_di...    2018.06.18   \n",
       "2  http://sharkattackfile.net/spreadsheets/pdf_di...    2018.06.09   \n",
       "3  http://sharkattackfile.net/spreadsheets/pdf_di...    2018.06.08   \n",
       "\n",
       "  Case Number.2 original order Unnamed: 22 Unnamed: 23  \n",
       "0    2018.06.25         6303.0         NaN         NaN  \n",
       "1    2018.06.18         6302.0         NaN         NaN  \n",
       "2    2018.06.09         6301.0         NaN         NaN  \n",
       "3    2018.06.08         6300.0         NaN         NaN  \n",
       "\n",
       "[4 rows x 24 columns]"
      ]
     },
     "execution_count": 3,
     "metadata": {},
     "output_type": "execute_result"
    }
   ],
   "source": [
    "shark = pd.read_csv('../data/attacks.csv',encoding = \"ISO-8859-1\")\n",
    "#pd.options.display.max_rows = 99 \n",
    "#pd.options.display.max_columns = 99\n",
    "shark.head(4) #Me muestro las primeras n lineas del dataframe, es la primera observación"
   ]
  },
  {
   "cell_type": "code",
   "execution_count": 4,
   "id": "8d16c50a",
   "metadata": {},
   "outputs": [
    {
     "data": {
      "text/html": [
       "<div>\n",
       "<style scoped>\n",
       "    .dataframe tbody tr th:only-of-type {\n",
       "        vertical-align: middle;\n",
       "    }\n",
       "\n",
       "    .dataframe tbody tr th {\n",
       "        vertical-align: top;\n",
       "    }\n",
       "\n",
       "    .dataframe thead th {\n",
       "        text-align: right;\n",
       "    }\n",
       "</style>\n",
       "<table border=\"1\" class=\"dataframe\">\n",
       "  <thead>\n",
       "    <tr style=\"text-align: right;\">\n",
       "      <th></th>\n",
       "      <th>Case Number</th>\n",
       "      <th>Date</th>\n",
       "      <th>Year</th>\n",
       "      <th>Type</th>\n",
       "      <th>Country</th>\n",
       "      <th>Area</th>\n",
       "      <th>Location</th>\n",
       "      <th>Activity</th>\n",
       "      <th>Name</th>\n",
       "      <th>Sex</th>\n",
       "      <th>...</th>\n",
       "      <th>Species</th>\n",
       "      <th>Investigator or Source</th>\n",
       "      <th>pdf</th>\n",
       "      <th>href formula</th>\n",
       "      <th>href</th>\n",
       "      <th>Case Number.1</th>\n",
       "      <th>Case Number.2</th>\n",
       "      <th>original order</th>\n",
       "      <th>Unnamed: 22</th>\n",
       "      <th>Unnamed: 23</th>\n",
       "    </tr>\n",
       "  </thead>\n",
       "  <tbody>\n",
       "    <tr>\n",
       "      <th>23160</th>\n",
       "      <td>NaN</td>\n",
       "      <td>NaN</td>\n",
       "      <td>NaN</td>\n",
       "      <td>NaN</td>\n",
       "      <td>NaN</td>\n",
       "      <td>NaN</td>\n",
       "      <td>NaN</td>\n",
       "      <td>NaN</td>\n",
       "      <td>NaN</td>\n",
       "      <td>NaN</td>\n",
       "      <td>...</td>\n",
       "      <td>NaN</td>\n",
       "      <td>NaN</td>\n",
       "      <td>NaN</td>\n",
       "      <td>NaN</td>\n",
       "      <td>NaN</td>\n",
       "      <td>NaN</td>\n",
       "      <td>NaN</td>\n",
       "      <td>NaN</td>\n",
       "      <td>NaN</td>\n",
       "      <td>NaN</td>\n",
       "    </tr>\n",
       "    <tr>\n",
       "      <th>2442</th>\n",
       "      <td>1994.04.03</td>\n",
       "      <td>03-Apr-1994</td>\n",
       "      <td>1994.0</td>\n",
       "      <td>Unprovoked</td>\n",
       "      <td>USA</td>\n",
       "      <td>Florida</td>\n",
       "      <td>Miami Beach, Dade County</td>\n",
       "      <td>Freediving for seashells</td>\n",
       "      <td>Raul Tozo</td>\n",
       "      <td>M</td>\n",
       "      <td>...</td>\n",
       "      <td>NaN</td>\n",
       "      <td>Miami Herald, 4/5/1994</td>\n",
       "      <td>1994.04.03-Tozo.pdf</td>\n",
       "      <td>http://sharkattackfile.net/spreadsheets/pdf_di...</td>\n",
       "      <td>http://sharkattackfile.net/spreadsheets/pdf_di...</td>\n",
       "      <td>1994.04.03</td>\n",
       "      <td>1994.04.03</td>\n",
       "      <td>3861.0</td>\n",
       "      <td>NaN</td>\n",
       "      <td>NaN</td>\n",
       "    </tr>\n",
       "    <tr>\n",
       "      <th>8253</th>\n",
       "      <td>0</td>\n",
       "      <td>NaN</td>\n",
       "      <td>NaN</td>\n",
       "      <td>NaN</td>\n",
       "      <td>NaN</td>\n",
       "      <td>NaN</td>\n",
       "      <td>NaN</td>\n",
       "      <td>NaN</td>\n",
       "      <td>NaN</td>\n",
       "      <td>NaN</td>\n",
       "      <td>...</td>\n",
       "      <td>NaN</td>\n",
       "      <td>NaN</td>\n",
       "      <td>NaN</td>\n",
       "      <td>NaN</td>\n",
       "      <td>NaN</td>\n",
       "      <td>NaN</td>\n",
       "      <td>NaN</td>\n",
       "      <td>NaN</td>\n",
       "      <td>NaN</td>\n",
       "      <td>NaN</td>\n",
       "    </tr>\n",
       "    <tr>\n",
       "      <th>9659</th>\n",
       "      <td>NaN</td>\n",
       "      <td>NaN</td>\n",
       "      <td>NaN</td>\n",
       "      <td>NaN</td>\n",
       "      <td>NaN</td>\n",
       "      <td>NaN</td>\n",
       "      <td>NaN</td>\n",
       "      <td>NaN</td>\n",
       "      <td>NaN</td>\n",
       "      <td>NaN</td>\n",
       "      <td>...</td>\n",
       "      <td>NaN</td>\n",
       "      <td>NaN</td>\n",
       "      <td>NaN</td>\n",
       "      <td>NaN</td>\n",
       "      <td>NaN</td>\n",
       "      <td>NaN</td>\n",
       "      <td>NaN</td>\n",
       "      <td>NaN</td>\n",
       "      <td>NaN</td>\n",
       "      <td>NaN</td>\n",
       "    </tr>\n",
       "  </tbody>\n",
       "</table>\n",
       "<p>4 rows × 24 columns</p>\n",
       "</div>"
      ],
      "text/plain": [
       "      Case Number         Date    Year        Type Country     Area  \\\n",
       "23160         NaN          NaN     NaN         NaN     NaN      NaN   \n",
       "2442   1994.04.03  03-Apr-1994  1994.0  Unprovoked     USA  Florida   \n",
       "8253            0          NaN     NaN         NaN     NaN      NaN   \n",
       "9659          NaN          NaN     NaN         NaN     NaN      NaN   \n",
       "\n",
       "                       Location                  Activity       Name Sex   \\\n",
       "23160                       NaN                       NaN        NaN  NaN   \n",
       "2442   Miami Beach, Dade County  Freediving for seashells  Raul Tozo    M   \n",
       "8253                        NaN                       NaN        NaN  NaN   \n",
       "9659                        NaN                       NaN        NaN  NaN   \n",
       "\n",
       "       ... Species   Investigator or Source                  pdf  \\\n",
       "23160  ...      NaN                     NaN                  NaN   \n",
       "2442   ...      NaN  Miami Herald, 4/5/1994  1994.04.03-Tozo.pdf   \n",
       "8253   ...      NaN                     NaN                  NaN   \n",
       "9659   ...      NaN                     NaN                  NaN   \n",
       "\n",
       "                                            href formula  \\\n",
       "23160                                                NaN   \n",
       "2442   http://sharkattackfile.net/spreadsheets/pdf_di...   \n",
       "8253                                                 NaN   \n",
       "9659                                                 NaN   \n",
       "\n",
       "                                                    href Case Number.1  \\\n",
       "23160                                                NaN           NaN   \n",
       "2442   http://sharkattackfile.net/spreadsheets/pdf_di...    1994.04.03   \n",
       "8253                                                 NaN           NaN   \n",
       "9659                                                 NaN           NaN   \n",
       "\n",
       "      Case Number.2 original order Unnamed: 22 Unnamed: 23  \n",
       "23160           NaN            NaN         NaN         NaN  \n",
       "2442     1994.04.03         3861.0         NaN         NaN  \n",
       "8253            NaN            NaN         NaN         NaN  \n",
       "9659            NaN            NaN         NaN         NaN  \n",
       "\n",
       "[4 rows x 24 columns]"
      ]
     },
     "execution_count": 4,
     "metadata": {},
     "output_type": "execute_result"
    }
   ],
   "source": [
    "shark.sample(4) \n",
    "#Podemos observar que aunque los primeros datos parecen buenos, en la muestra hay muchos valores NaN, no utiles"
   ]
  },
  {
   "cell_type": "code",
   "execution_count": 5,
   "id": "25954f83",
   "metadata": {},
   "outputs": [
    {
     "data": {
      "text/html": [
       "<div>\n",
       "<style scoped>\n",
       "    .dataframe tbody tr th:only-of-type {\n",
       "        vertical-align: middle;\n",
       "    }\n",
       "\n",
       "    .dataframe tbody tr th {\n",
       "        vertical-align: top;\n",
       "    }\n",
       "\n",
       "    .dataframe thead th {\n",
       "        text-align: right;\n",
       "    }\n",
       "</style>\n",
       "<table border=\"1\" class=\"dataframe\">\n",
       "  <thead>\n",
       "    <tr style=\"text-align: right;\">\n",
       "      <th></th>\n",
       "      <th>Year</th>\n",
       "      <th>original order</th>\n",
       "    </tr>\n",
       "  </thead>\n",
       "  <tbody>\n",
       "    <tr>\n",
       "      <th>count</th>\n",
       "      <td>6300.000000</td>\n",
       "      <td>6309.000000</td>\n",
       "    </tr>\n",
       "    <tr>\n",
       "      <th>mean</th>\n",
       "      <td>1927.272381</td>\n",
       "      <td>3155.999683</td>\n",
       "    </tr>\n",
       "    <tr>\n",
       "      <th>std</th>\n",
       "      <td>281.116308</td>\n",
       "      <td>1821.396206</td>\n",
       "    </tr>\n",
       "    <tr>\n",
       "      <th>min</th>\n",
       "      <td>0.000000</td>\n",
       "      <td>2.000000</td>\n",
       "    </tr>\n",
       "    <tr>\n",
       "      <th>25%</th>\n",
       "      <td>1942.000000</td>\n",
       "      <td>1579.000000</td>\n",
       "    </tr>\n",
       "    <tr>\n",
       "      <th>50%</th>\n",
       "      <td>1977.000000</td>\n",
       "      <td>3156.000000</td>\n",
       "    </tr>\n",
       "    <tr>\n",
       "      <th>75%</th>\n",
       "      <td>2005.000000</td>\n",
       "      <td>4733.000000</td>\n",
       "    </tr>\n",
       "    <tr>\n",
       "      <th>max</th>\n",
       "      <td>2018.000000</td>\n",
       "      <td>6310.000000</td>\n",
       "    </tr>\n",
       "  </tbody>\n",
       "</table>\n",
       "</div>"
      ],
      "text/plain": [
       "              Year  original order\n",
       "count  6300.000000     6309.000000\n",
       "mean   1927.272381     3155.999683\n",
       "std     281.116308     1821.396206\n",
       "min       0.000000        2.000000\n",
       "25%    1942.000000     1579.000000\n",
       "50%    1977.000000     3156.000000\n",
       "75%    2005.000000     4733.000000\n",
       "max    2018.000000     6310.000000"
      ]
     },
     "execution_count": 5,
     "metadata": {},
     "output_type": "execute_result"
    }
   ],
   "source": [
    "shark.describe()\n",
    "#Me aporta información estadistica basica, en principio no me dice mucho, pero lo tendre de apoyo,\n",
    "#Y de punto de inicio de mi exploración de datos"
   ]
  },
  {
   "cell_type": "code",
   "execution_count": 6,
   "id": "b514b580",
   "metadata": {},
   "outputs": [
    {
     "name": "stdout",
     "output_type": "stream",
     "text": [
      "<class 'pandas.core.frame.DataFrame'>\n",
      "RangeIndex: 25723 entries, 0 to 25722\n",
      "Data columns (total 24 columns):\n",
      " #   Column                  Non-Null Count  Dtype  \n",
      "---  ------                  --------------  -----  \n",
      " 0   Case Number             8702 non-null   object \n",
      " 1   Date                    6302 non-null   object \n",
      " 2   Year                    6300 non-null   float64\n",
      " 3   Type                    6298 non-null   object \n",
      " 4   Country                 6252 non-null   object \n",
      " 5   Area                    5847 non-null   object \n",
      " 6   Location                5762 non-null   object \n",
      " 7   Activity                5758 non-null   object \n",
      " 8   Name                    6092 non-null   object \n",
      " 9   Sex                     5737 non-null   object \n",
      " 10  Age                     3471 non-null   object \n",
      " 11  Injury                  6274 non-null   object \n",
      " 12  Fatal (Y/N)             5763 non-null   object \n",
      " 13  Time                    2948 non-null   object \n",
      " 14  Species                 3464 non-null   object \n",
      " 15  Investigator or Source  6285 non-null   object \n",
      " 16  pdf                     6302 non-null   object \n",
      " 17  href formula            6301 non-null   object \n",
      " 18  href                    6302 non-null   object \n",
      " 19  Case Number.1           6302 non-null   object \n",
      " 20  Case Number.2           6302 non-null   object \n",
      " 21  original order          6309 non-null   float64\n",
      " 22  Unnamed: 22             1 non-null      object \n",
      " 23  Unnamed: 23             2 non-null      object \n",
      "dtypes: float64(2), object(22)\n",
      "memory usage: 4.7+ MB\n"
     ]
    }
   ],
   "source": [
    "shark.info()\n",
    "#Nuevamente información basica sobre que tipo de datos tengo y como se llaman las columnas\n",
    "#De primeras veo que las columnas Unammed 22 y 23 no tienen apenas valore no NaN(las eliminare)"
   ]
  },
  {
   "cell_type": "code",
   "execution_count": 7,
   "id": "2e09e383",
   "metadata": {},
   "outputs": [
    {
     "data": {
      "text/plain": [
       "(25723, 24)"
      ]
     },
     "execution_count": 7,
     "metadata": {},
     "output_type": "execute_result"
    }
   ],
   "source": [
    "shark.shape \n",
    "#Me da las dimensiones de mi dataframe, numero de filas y columnas"
   ]
  },
  {
   "cell_type": "markdown",
   "id": "1c2b49f1",
   "metadata": {},
   "source": [
    "2-Limpieza y filtrado de datos"
   ]
  },
  {
   "cell_type": "code",
   "execution_count": 8,
   "id": "fb51f5a5",
   "metadata": {},
   "outputs": [
    {
     "data": {
      "text/plain": [
       "Index(['Case Number', 'Date', 'Year', 'Type', 'Country', 'Area', 'Location',\n",
       "       'Activity', 'Name', 'Sex ', 'Age', 'Injury', 'Fatal (Y/N)', 'Time',\n",
       "       'Species ', 'Investigator or Source', 'pdf', 'href formula', 'href',\n",
       "       'Case Number.1', 'Case Number.2', 'original order', 'Unnamed: 22',\n",
       "       'Unnamed: 23'],\n",
       "      dtype='object')"
      ]
     },
     "execution_count": 8,
     "metadata": {},
     "output_type": "execute_result"
    }
   ],
   "source": [
    "shark.columns\n",
    "#Obtengo los nombres de todas las columnas"
   ]
  },
  {
   "cell_type": "code",
   "execution_count": 9,
   "id": "e759092e",
   "metadata": {},
   "outputs": [],
   "source": [
    "def new_name(df):\n",
    "    \"\"\"función para que los nombres de las columnas no tengan valores raros\"\"\"\n",
    "    new = []\n",
    "    for col in df.columns:\n",
    "        print(col)\n",
    "        a = col.strip().lower()\n",
    "        b = a.replace('.','_')\n",
    "        new.append(b)    \n",
    "    return new"
   ]
  },
  {
   "cell_type": "code",
   "execution_count": 10,
   "id": "c05d1f53",
   "metadata": {},
   "outputs": [
    {
     "name": "stdout",
     "output_type": "stream",
     "text": [
      "Case Number\n",
      "Date\n",
      "Year\n",
      "Type\n",
      "Country\n",
      "Area\n",
      "Location\n",
      "Activity\n",
      "Name\n",
      "Sex \n",
      "Age\n",
      "Injury\n",
      "Fatal (Y/N)\n",
      "Time\n",
      "Species \n",
      "Investigator or Source\n",
      "pdf\n",
      "href formula\n",
      "href\n",
      "Case Number.1\n",
      "Case Number.2\n",
      "original order\n",
      "Unnamed: 22\n",
      "Unnamed: 23\n"
     ]
    }
   ],
   "source": [
    "shark.columns=new_name(shark)\n",
    "#Dejo mas bonitos los nombres de mis columnas"
   ]
  },
  {
   "cell_type": "code",
   "execution_count": 11,
   "id": "562b3754",
   "metadata": {},
   "outputs": [
    {
     "name": "stdout",
     "output_type": "stream",
     "text": [
      "case number - 66%\n",
      "date - 76%\n",
      "year - 76%\n",
      "type - 76%\n",
      "country - 76%\n",
      "area - 77%\n",
      "location - 78%\n",
      "activity - 78%\n",
      "name - 76%\n",
      "sex - 78%\n",
      "age - 87%\n",
      "injury - 76%\n",
      "fatal (y/n) - 78%\n",
      "time - 89%\n",
      "species - 87%\n",
      "investigator or source - 76%\n",
      "pdf - 76%\n",
      "href formula - 76%\n",
      "href - 76%\n",
      "case number_1 - 76%\n",
      "case number_2 - 76%\n",
      "original order - 75%\n",
      "unnamed: 22 - 100%\n",
      "unnamed: 23 - 100%\n"
     ]
    }
   ],
   "source": [
    "for col in shark.columns:\n",
    "    nulos = np.mean(shark[col].isnull())\n",
    "    print('{} - {}%'.format(col, round(nulos*100))) \n",
    "#me saca los porcentajes de valores NaN en mis columnas, \n",
    "#me aporta información de la calidad de las mismas "
   ]
  },
  {
   "cell_type": "code",
   "execution_count": 12,
   "id": "9dc16c52",
   "metadata": {},
   "outputs": [
    {
     "data": {
      "text/plain": [
       "(8703, 24)"
      ]
     },
     "execution_count": 12,
     "metadata": {},
     "output_type": "execute_result"
    }
   ],
   "source": [
    "shark1 = shark.dropna(how=\"all\")#elimina todas las filas en las que todos los datos son NaN\n",
    "#shark1 = shark.fillna({sex:0}) --- me llenaria los valores NaN de sex con el valor 0\n",
    "shark1.shape #se observa claramente como ahora el numero de filas es muy inferior a nuestro dataframe original"
   ]
  },
  {
   "cell_type": "code",
   "execution_count": 13,
   "id": "8bb1cbf7",
   "metadata": {},
   "outputs": [
    {
     "name": "stdout",
     "output_type": "stream",
     "text": [
      "case number - 0%\n",
      "date - 28%\n",
      "year - 28%\n",
      "type - 28%\n",
      "country - 28%\n",
      "area - 33%\n",
      "location - 34%\n",
      "activity - 34%\n",
      "name - 30%\n",
      "sex - 34%\n",
      "age - 60%\n",
      "injury - 28%\n",
      "fatal (y/n) - 34%\n",
      "time - 66%\n",
      "species - 60%\n",
      "investigator or source - 28%\n",
      "pdf - 28%\n",
      "href formula - 28%\n",
      "href - 28%\n",
      "case number_1 - 28%\n",
      "case number_2 - 28%\n",
      "original order - 28%\n",
      "unnamed: 22 - 100%\n",
      "unnamed: 23 - 100%\n"
     ]
    }
   ],
   "source": [
    "for col in shark1.columns:\n",
    "    nulo = np.mean(shark1[col].isnull())\n",
    "    print('{} - {}%'.format(col, round(nulo*100))) \n",
    "#Con la elimininación de estas filas de valores nulos\n",
    "#Me baja el porcentaje de nulos presente por cada columna, mejoro mis datos"
   ]
  },
  {
   "cell_type": "code",
   "execution_count": 14,
   "id": "bde1b9a0",
   "metadata": {},
   "outputs": [],
   "source": [
    "shark1 = shark1.drop(columns = ['original order','case number_2','case number_1','href','href formula','pdf',\n",
    "                                'investigator or source','unnamed: 22','unnamed: 23','name',])\n",
    "#Elimino estas columnas de poco interes para mis hipotesis y prosigo con la limpieza"
   ]
  },
  {
   "cell_type": "code",
   "execution_count": 15,
   "id": "d9fd0a54",
   "metadata": {},
   "outputs": [],
   "source": [
    "shark1.drop_duplicates(inplace=True) \n",
    "#Con esto elimino todas las filas en las que tengamos datos duplicados"
   ]
  },
  {
   "cell_type": "code",
   "execution_count": 16,
   "id": "59b19bc7",
   "metadata": {},
   "outputs": [
    {
     "data": {
      "text/plain": [
       "(6304, 14)"
      ]
     },
     "execution_count": 16,
     "metadata": {},
     "output_type": "execute_result"
    }
   ],
   "source": [
    "shark1.shape \n",
    "#Ahora mi dataframe tiene menos columnas y menos filas, pero los datos que quedan aportan mejor información que antes"
   ]
  },
  {
   "cell_type": "code",
   "execution_count": 17,
   "id": "8daf1c9c",
   "metadata": {},
   "outputs": [],
   "source": [
    "shark1.columns = ['Number','Date', 'Year', 'Type', 'Country', 'Area','Location','Activity',\n",
    "                   'Sex', 'Age','Injury', 'Fatal', 'Time', 'Species']\n",
    "#Cambio los nombres de mis actuales columnas para que esten mas claros y me sea mas sencillo trabajar"
   ]
  },
  {
   "cell_type": "code",
   "execution_count": 18,
   "id": "95dcbc27",
   "metadata": {},
   "outputs": [],
   "source": [
    "#shark1.dropna(subset=['Number','Date', 'Year', 'Type', 'Country', 'Area','Location','Activity',\n",
    "                  # 'Sex', 'Age','Injury', 'Fatal', 'Time', 'Species'],inplace=True)\n",
    "#Elimino las filas con valores nulos de cada columna que tengo renombrada"
   ]
  },
  {
   "cell_type": "code",
   "execution_count": 19,
   "id": "d9a9bf3e",
   "metadata": {},
   "outputs": [],
   "source": [
    "shark1.dropna(subset=['Species'],inplace=True) #Elimino los valores nulos de la columna en cuestión"
   ]
  },
  {
   "cell_type": "code",
   "execution_count": 20,
   "id": "827bd55c",
   "metadata": {},
   "outputs": [],
   "source": [
    "shark1 = shark1.drop(columns = ['Number','Area','Location','Age','Injury']) \n",
    "#A mis columnas previamente eliminadas añado estas nuevas"
   ]
  },
  {
   "cell_type": "markdown",
   "id": "e4fe9e21",
   "metadata": {},
   "source": [
    "Comienzo la limpieza:"
   ]
  },
  {
   "cell_type": "code",
   "execution_count": 21,
   "id": "b3e5c0e6",
   "metadata": {},
   "outputs": [
    {
     "data": {
      "text/plain": [
       "N          2497\n",
       "Y           427\n",
       "UNKNOWN      17\n",
       " N            5\n",
       "M             1\n",
       "2017          1\n",
       "Name: Fatal, dtype: int64"
      ]
     },
     "execution_count": 21,
     "metadata": {},
     "output_type": "execute_result"
    }
   ],
   "source": [
    "shark1['Fatal'].value_counts() \n",
    "#Analizo Fatal, y trato de limpiar los datos "
   ]
  },
  {
   "cell_type": "code",
   "execution_count": 22,
   "id": "7eb8feb8",
   "metadata": {},
   "outputs": [],
   "source": [
    "shark1['Fatal'] = shark1['Fatal'].str.strip() #Convierto todo en strings para poder comparar \n",
    "shark1['Fatal'] = shark1['Fatal'].str.upper() #Paso todo a mayusculas\n",
    "shark1['Fatal'].replace(['M','2017'], np.nan, inplace=True) #Cambio los valores anomalos por NaN\n",
    "shark1['Fatal'].replace(['UNKNOWN'], np.nan, inplace=True) \n",
    "shark1['Fatal'].replace(['N'], 'NO', inplace=True) #Cambio todas mis N por NO\n",
    "shark1['Fatal'].replace(['Y'], 'YES', inplace=True) #Cambio todas mis Y por YES"
   ]
  },
  {
   "cell_type": "code",
   "execution_count": 23,
   "id": "2552add6",
   "metadata": {},
   "outputs": [
    {
     "data": {
      "text/plain": [
       "NO     2502\n",
       "YES     427\n",
       "Name: Fatal, dtype: int64"
      ]
     },
     "execution_count": 23,
     "metadata": {},
     "output_type": "execute_result"
    }
   ],
   "source": [
    "shark1['Fatal'].value_counts() \n",
    "#La columna limpia queda dividida en yes or no como respuesta a la pregunta de si el ataque ha sido fatal o la persona ha sobrevivido"
   ]
  },
  {
   "cell_type": "code",
   "execution_count": 24,
   "id": "e45c9365",
   "metadata": {},
   "outputs": [
    {
     "data": {
      "text/plain": [
       "M      2770\n",
       "F       370\n",
       "N         2\n",
       "M         1\n",
       "lli       1\n",
       ".         1\n",
       "Name: Sex, dtype: int64"
      ]
     },
     "execution_count": 24,
     "metadata": {},
     "output_type": "execute_result"
    }
   ],
   "source": [
    "shark1['Sex'].value_counts() \n",
    "#Paso a analizar la columna sex y a limpiarla"
   ]
  },
  {
   "cell_type": "code",
   "execution_count": 25,
   "id": "0eff6ff0",
   "metadata": {},
   "outputs": [
    {
     "data": {
      "text/plain": [
       "Male      2771\n",
       "Female     370\n",
       "Name: Sex, dtype: int64"
      ]
     },
     "execution_count": 25,
     "metadata": {},
     "output_type": "execute_result"
    }
   ],
   "source": [
    "shark1['Sex'] = shark1['Sex'].str.strip()\n",
    "shark1['Sex'].replace(['N','.','lli'],np.nan,inplace=True)\n",
    "shark1['Sex'].replace(['M'], 'Male', inplace=True)\n",
    "shark1['Sex'].replace(['F'], 'Female', inplace=True)\n",
    "shark1['Sex'].value_counts() \n",
    "#Ahora mis datos estan agrupados en dos categorias solo ; Hombre o Mujer,proceso similar al anterior"
   ]
  },
  {
   "cell_type": "code",
   "execution_count": 26,
   "id": "939bb388",
   "metadata": {},
   "outputs": [],
   "source": [
    "#shark1.dropna(subset=['Country','Species'],inplace=True)"
   ]
  },
  {
   "cell_type": "code",
   "execution_count": 27,
   "id": "f9becb73",
   "metadata": {},
   "outputs": [
    {
     "data": {
      "text/html": [
       "<div>\n",
       "<style scoped>\n",
       "    .dataframe tbody tr th:only-of-type {\n",
       "        vertical-align: middle;\n",
       "    }\n",
       "\n",
       "    .dataframe tbody tr th {\n",
       "        vertical-align: top;\n",
       "    }\n",
       "\n",
       "    .dataframe thead th {\n",
       "        text-align: right;\n",
       "    }\n",
       "</style>\n",
       "<table border=\"1\" class=\"dataframe\">\n",
       "  <thead>\n",
       "    <tr style=\"text-align: right;\">\n",
       "      <th></th>\n",
       "      <th>Date</th>\n",
       "      <th>Year</th>\n",
       "      <th>Type</th>\n",
       "      <th>Country</th>\n",
       "      <th>Activity</th>\n",
       "      <th>Sex</th>\n",
       "      <th>Fatal</th>\n",
       "      <th>Time</th>\n",
       "      <th>Species</th>\n",
       "      <th>Sharks</th>\n",
       "    </tr>\n",
       "  </thead>\n",
       "  <tbody>\n",
       "    <tr>\n",
       "      <th>565</th>\n",
       "      <td>Reported 12-Apr-2014</td>\n",
       "      <td>2014.0</td>\n",
       "      <td>Boat</td>\n",
       "      <td>SOUTH AFRICA</td>\n",
       "      <td>Shark watching</td>\n",
       "      <td>NaN</td>\n",
       "      <td>NO</td>\n",
       "      <td>NaN</td>\n",
       "      <td>White shark</td>\n",
       "      <td>White shark</td>\n",
       "    </tr>\n",
       "    <tr>\n",
       "      <th>3327</th>\n",
       "      <td>17-Aug-1972</td>\n",
       "      <td>1972.0</td>\n",
       "      <td>Unprovoked</td>\n",
       "      <td>USA</td>\n",
       "      <td>Spearfishing</td>\n",
       "      <td>Male</td>\n",
       "      <td>NO</td>\n",
       "      <td>NaN</td>\n",
       "      <td>2.4 m [8'] shark</td>\n",
       "      <td>Other sharks</td>\n",
       "    </tr>\n",
       "    <tr>\n",
       "      <th>2717</th>\n",
       "      <td>22-Aug-1988</td>\n",
       "      <td>1988.0</td>\n",
       "      <td>Provoked</td>\n",
       "      <td>USA</td>\n",
       "      <td>Diving in Sharkey's Reef restaurants aquarium</td>\n",
       "      <td>Male</td>\n",
       "      <td>NO</td>\n",
       "      <td>NaN</td>\n",
       "      <td>Tiger shark, 1.8 m [6']</td>\n",
       "      <td>Other sharks</td>\n",
       "    </tr>\n",
       "    <tr>\n",
       "      <th>1621</th>\n",
       "      <td>27-Nov-2004</td>\n",
       "      <td>2004.0</td>\n",
       "      <td>Unprovoked</td>\n",
       "      <td>SOUTH AFRICA</td>\n",
       "      <td>Surfing</td>\n",
       "      <td>Male</td>\n",
       "      <td>NO</td>\n",
       "      <td>18h00</td>\n",
       "      <td>Raggedtooth shark</td>\n",
       "      <td>Other sharks</td>\n",
       "    </tr>\n",
       "    <tr>\n",
       "      <th>368</th>\n",
       "      <td>03-Sep-2015</td>\n",
       "      <td>2015.0</td>\n",
       "      <td>Unprovoked</td>\n",
       "      <td>USA</td>\n",
       "      <td>NaN</td>\n",
       "      <td>Male</td>\n",
       "      <td>NO</td>\n",
       "      <td>16h00</td>\n",
       "      <td>4' shark?</td>\n",
       "      <td>Other sharks</td>\n",
       "    </tr>\n",
       "  </tbody>\n",
       "</table>\n",
       "</div>"
      ],
      "text/plain": [
       "                      Date    Year        Type       Country  \\\n",
       "565   Reported 12-Apr-2014  2014.0        Boat  SOUTH AFRICA   \n",
       "3327           17-Aug-1972  1972.0  Unprovoked           USA   \n",
       "2717           22-Aug-1988  1988.0    Provoked           USA   \n",
       "1621           27-Nov-2004  2004.0  Unprovoked  SOUTH AFRICA   \n",
       "368            03-Sep-2015  2015.0  Unprovoked           USA   \n",
       "\n",
       "                                            Activity   Sex Fatal   Time  \\\n",
       "565                                   Shark watching   NaN    NO    NaN   \n",
       "3327                                    Spearfishing  Male    NO    NaN   \n",
       "2717  Diving in Sharkey's Reef restaurants aquarium  Male    NO    NaN   \n",
       "1621                                         Surfing  Male    NO  18h00   \n",
       "368                                              NaN  Male    NO  16h00   \n",
       "\n",
       "                      Species        Sharks  \n",
       "565               White shark   White shark  \n",
       "3327         2.4 m [8'] shark  Other sharks  \n",
       "2717  Tiger shark, 1.8 m [6']  Other sharks  \n",
       "1621        Raggedtooth shark  Other sharks  \n",
       "368                 4' shark?  Other sharks  "
      ]
     },
     "execution_count": 27,
     "metadata": {},
     "output_type": "execute_result"
    }
   ],
   "source": [
    "shark1[\"Sharks\"] = shark1[\"Species\"].apply(blanco) #aplico mi funcion que se encuentra en SRC\n",
    "shark1.sample(5)"
   ]
  },
  {
   "cell_type": "code",
   "execution_count": 28,
   "id": "a8eaf284",
   "metadata": {},
   "outputs": [
    {
     "data": {
      "text/plain": [
       "Other sharks    2797\n",
       "White shark      667\n",
       "Name: Sharks, dtype: int64"
      ]
     },
     "execution_count": 28,
     "metadata": {},
     "output_type": "execute_result"
    }
   ],
   "source": [
    "shark1[\"Sharks\"].value_counts() \n",
    "#Ahora tras aplicar mi funcion blanco, distingo entre que ataques han sido a manos de tiburones blancos y cuales no\n",
    "#Dor por limpiada la columna species de la que ya no voy a usar más datos y la cual procedere a eliminar "
   ]
  },
  {
   "cell_type": "code",
   "execution_count": 29,
   "id": "0889f6d1",
   "metadata": {},
   "outputs": [
    {
     "data": {
      "text/plain": [
       "Unprovoked      2241\n",
       "Invalid          526\n",
       "Provoked         412\n",
       "Boating          136\n",
       "Boat             112\n",
       "Sea Disaster      35\n",
       "Questionable       2\n",
       "Name: Type, dtype: int64"
      ]
     },
     "execution_count": 29,
     "metadata": {},
     "output_type": "execute_result"
    }
   ],
   "source": [
    "shark1['Type'].value_counts() \n",
    "#No son excesivas las categorias, paso a su limpieza"
   ]
  },
  {
   "cell_type": "code",
   "execution_count": 30,
   "id": "6b33914c",
   "metadata": {},
   "outputs": [
    {
     "data": {
      "text/plain": [
       "UNPROVOKED      2241\n",
       "INVALID          526\n",
       "PROVOKED         412\n",
       "BOAT             248\n",
       "SEA DISASTER      35\n",
       "DKNOW              2\n",
       "Name: Type, dtype: int64"
      ]
     },
     "execution_count": 30,
     "metadata": {},
     "output_type": "execute_result"
    }
   ],
   "source": [
    "shark1['Type'] = shark1['Type'].str.upper()\n",
    "shark1['Type'].replace('BOAT\\w*','BOAT',regex=True,inplace=True)\n",
    "shark1['Type'].replace('QUESTIONABLE','DKNOW',inplace=True)\n",
    "shark1['Type'].value_counts() #Limpio mis datos de type"
   ]
  },
  {
   "cell_type": "code",
   "execution_count": 31,
   "id": "60884fbb",
   "metadata": {},
   "outputs": [],
   "source": [
    "shark1.dropna(subset=['Sex','Fatal','Type'],inplace=True) \n",
    "#Elimino los residuos de NaN que quedaban en estas columnas"
   ]
  },
  {
   "cell_type": "code",
   "execution_count": 32,
   "id": "185f4b05",
   "metadata": {},
   "outputs": [
    {
     "data": {
      "text/html": [
       "<div>\n",
       "<style scoped>\n",
       "    .dataframe tbody tr th:only-of-type {\n",
       "        vertical-align: middle;\n",
       "    }\n",
       "\n",
       "    .dataframe tbody tr th {\n",
       "        vertical-align: top;\n",
       "    }\n",
       "\n",
       "    .dataframe thead th {\n",
       "        text-align: right;\n",
       "    }\n",
       "</style>\n",
       "<table border=\"1\" class=\"dataframe\">\n",
       "  <thead>\n",
       "    <tr style=\"text-align: right;\">\n",
       "      <th></th>\n",
       "      <th>Date</th>\n",
       "      <th>Year</th>\n",
       "      <th>Type</th>\n",
       "      <th>Country</th>\n",
       "      <th>Activity</th>\n",
       "      <th>Sex</th>\n",
       "      <th>Fatal</th>\n",
       "      <th>Time</th>\n",
       "      <th>Species</th>\n",
       "      <th>Sharks</th>\n",
       "    </tr>\n",
       "  </thead>\n",
       "  <tbody>\n",
       "    <tr>\n",
       "      <th>0</th>\n",
       "      <td>25-Jun-2018</td>\n",
       "      <td>2018.0</td>\n",
       "      <td>BOAT</td>\n",
       "      <td>USA</td>\n",
       "      <td>Paddling</td>\n",
       "      <td>Female</td>\n",
       "      <td>NO</td>\n",
       "      <td>18h00</td>\n",
       "      <td>White shark</td>\n",
       "      <td>White shark</td>\n",
       "    </tr>\n",
       "    <tr>\n",
       "      <th>3</th>\n",
       "      <td>08-Jun-2018</td>\n",
       "      <td>2018.0</td>\n",
       "      <td>UNPROVOKED</td>\n",
       "      <td>AUSTRALIA</td>\n",
       "      <td>Surfing</td>\n",
       "      <td>Male</td>\n",
       "      <td>NO</td>\n",
       "      <td>NaN</td>\n",
       "      <td>2 m shark</td>\n",
       "      <td>Other sharks</td>\n",
       "    </tr>\n",
       "    <tr>\n",
       "      <th>4</th>\n",
       "      <td>04-Jun-2018</td>\n",
       "      <td>2018.0</td>\n",
       "      <td>PROVOKED</td>\n",
       "      <td>MEXICO</td>\n",
       "      <td>Free diving</td>\n",
       "      <td>Male</td>\n",
       "      <td>NO</td>\n",
       "      <td>NaN</td>\n",
       "      <td>Tiger shark, 3m</td>\n",
       "      <td>Other sharks</td>\n",
       "    </tr>\n",
       "    <tr>\n",
       "      <th>6</th>\n",
       "      <td>03-Jun-2018</td>\n",
       "      <td>2018.0</td>\n",
       "      <td>UNPROVOKED</td>\n",
       "      <td>BRAZIL</td>\n",
       "      <td>Swimming</td>\n",
       "      <td>Male</td>\n",
       "      <td>YES</td>\n",
       "      <td>Late afternoon</td>\n",
       "      <td>Tiger shark</td>\n",
       "      <td>Other sharks</td>\n",
       "    </tr>\n",
       "    <tr>\n",
       "      <th>7</th>\n",
       "      <td>27-May-2018</td>\n",
       "      <td>2018.0</td>\n",
       "      <td>UNPROVOKED</td>\n",
       "      <td>USA</td>\n",
       "      <td>Fishing</td>\n",
       "      <td>Male</td>\n",
       "      <td>NO</td>\n",
       "      <td>NaN</td>\n",
       "      <td>Lemon shark, 3'</td>\n",
       "      <td>Other sharks</td>\n",
       "    </tr>\n",
       "    <tr>\n",
       "      <th>...</th>\n",
       "      <td>...</td>\n",
       "      <td>...</td>\n",
       "      <td>...</td>\n",
       "      <td>...</td>\n",
       "      <td>...</td>\n",
       "      <td>...</td>\n",
       "      <td>...</td>\n",
       "      <td>...</td>\n",
       "      <td>...</td>\n",
       "      <td>...</td>\n",
       "    </tr>\n",
       "    <tr>\n",
       "      <th>6276</th>\n",
       "      <td>Early 1930s</td>\n",
       "      <td>0.0</td>\n",
       "      <td>UNPROVOKED</td>\n",
       "      <td>BELIZE</td>\n",
       "      <td>Standing</td>\n",
       "      <td>Male</td>\n",
       "      <td>YES</td>\n",
       "      <td>NaN</td>\n",
       "      <td>12' tiger shark</td>\n",
       "      <td>Other sharks</td>\n",
       "    </tr>\n",
       "    <tr>\n",
       "      <th>6293</th>\n",
       "      <td>Before 1906</td>\n",
       "      <td>0.0</td>\n",
       "      <td>UNPROVOKED</td>\n",
       "      <td>AUSTRALIA</td>\n",
       "      <td>Fishing</td>\n",
       "      <td>Male</td>\n",
       "      <td>YES</td>\n",
       "      <td>NaN</td>\n",
       "      <td>Blue pointer</td>\n",
       "      <td>Other sharks</td>\n",
       "    </tr>\n",
       "    <tr>\n",
       "      <th>6294</th>\n",
       "      <td>Before 1906</td>\n",
       "      <td>0.0</td>\n",
       "      <td>UNPROVOKED</td>\n",
       "      <td>AUSTRALIA</td>\n",
       "      <td>Fishing</td>\n",
       "      <td>Male</td>\n",
       "      <td>YES</td>\n",
       "      <td>NaN</td>\n",
       "      <td>Blue pointer</td>\n",
       "      <td>Other sharks</td>\n",
       "    </tr>\n",
       "    <tr>\n",
       "      <th>6295</th>\n",
       "      <td>Before 1906</td>\n",
       "      <td>0.0</td>\n",
       "      <td>UNPROVOKED</td>\n",
       "      <td>AUSTRALIA</td>\n",
       "      <td>Fishing</td>\n",
       "      <td>Male</td>\n",
       "      <td>YES</td>\n",
       "      <td>NaN</td>\n",
       "      <td>Blue pointers</td>\n",
       "      <td>Other sharks</td>\n",
       "    </tr>\n",
       "    <tr>\n",
       "      <th>6296</th>\n",
       "      <td>Before 1906</td>\n",
       "      <td>0.0</td>\n",
       "      <td>UNPROVOKED</td>\n",
       "      <td>AUSTRALIA</td>\n",
       "      <td>Swimming</td>\n",
       "      <td>Male</td>\n",
       "      <td>YES</td>\n",
       "      <td>NaN</td>\n",
       "      <td>Said to involve a grey nurse shark that leapt ...</td>\n",
       "      <td>Other sharks</td>\n",
       "    </tr>\n",
       "  </tbody>\n",
       "</table>\n",
       "<p>2687 rows × 10 columns</p>\n",
       "</div>"
      ],
      "text/plain": [
       "             Date    Year        Type    Country     Activity     Sex Fatal  \\\n",
       "0     25-Jun-2018  2018.0        BOAT        USA     Paddling  Female    NO   \n",
       "3     08-Jun-2018  2018.0  UNPROVOKED  AUSTRALIA      Surfing    Male    NO   \n",
       "4     04-Jun-2018  2018.0    PROVOKED     MEXICO  Free diving    Male    NO   \n",
       "6     03-Jun-2018  2018.0  UNPROVOKED     BRAZIL     Swimming    Male   YES   \n",
       "7     27-May-2018  2018.0  UNPROVOKED        USA      Fishing    Male    NO   \n",
       "...           ...     ...         ...        ...          ...     ...   ...   \n",
       "6276  Early 1930s     0.0  UNPROVOKED     BELIZE     Standing    Male   YES   \n",
       "6293  Before 1906     0.0  UNPROVOKED  AUSTRALIA      Fishing    Male   YES   \n",
       "6294  Before 1906     0.0  UNPROVOKED  AUSTRALIA      Fishing    Male   YES   \n",
       "6295  Before 1906     0.0  UNPROVOKED  AUSTRALIA      Fishing    Male   YES   \n",
       "6296  Before 1906     0.0  UNPROVOKED  AUSTRALIA     Swimming    Male   YES   \n",
       "\n",
       "                Time                                            Species  \\\n",
       "0              18h00                                        White shark   \n",
       "3                NaN                                          2 m shark   \n",
       "4                NaN                                    Tiger shark, 3m   \n",
       "6     Late afternoon                                        Tiger shark   \n",
       "7                NaN                                    Lemon shark, 3'   \n",
       "...              ...                                                ...   \n",
       "6276             NaN                                    12' tiger shark   \n",
       "6293             NaN                                       Blue pointer   \n",
       "6294             NaN                                       Blue pointer   \n",
       "6295             NaN                                      Blue pointers   \n",
       "6296             NaN  Said to involve a grey nurse shark that leapt ...   \n",
       "\n",
       "            Sharks  \n",
       "0      White shark  \n",
       "3     Other sharks  \n",
       "4     Other sharks  \n",
       "6     Other sharks  \n",
       "7     Other sharks  \n",
       "...            ...  \n",
       "6276  Other sharks  \n",
       "6293  Other sharks  \n",
       "6294  Other sharks  \n",
       "6295  Other sharks  \n",
       "6296  Other sharks  \n",
       "\n",
       "[2687 rows x 10 columns]"
      ]
     },
     "execution_count": 32,
     "metadata": {},
     "output_type": "execute_result"
    }
   ],
   "source": [
    "shark1 #veo como va la cosa"
   ]
  },
  {
   "cell_type": "code",
   "execution_count": 33,
   "id": "6d97411e",
   "metadata": {},
   "outputs": [],
   "source": [
    "temp_lst = [] #creo variable vacia par almacenar mis meses\n",
    "for row in shark1['Date']: #recorro todas las filas de la columna date\n",
    "    temp_row = ''.join(re.findall('\\-[A-Za-z]{3}\\-',row)).lower() #uso regex para encontrar la parte que me interesa de los datos\n",
    "    temp_row = re.sub('\\-','',temp_row) #Con regex también elimino lo que no me interesa de los datos \n",
    "            \n",
    "    if temp_row == '':\n",
    "        temp_row = np.nan\n",
    "\n",
    "    temp_lst.append(temp_row)\n",
    "\n",
    "shark1['Month'] = temp_lst \n",
    "#Creo una nueva columna en mi dataframe con los meses que he conseguido capturar antes de entre mis datos"
   ]
  },
  {
   "cell_type": "code",
   "execution_count": 34,
   "id": "b45c053b",
   "metadata": {},
   "outputs": [
    {
     "data": {
      "text/plain": [
       "jul       267\n",
       "aug       243\n",
       "sep       237\n",
       "jan       225\n",
       "jun       221\n",
       "oct       203\n",
       "apr       194\n",
       "mar       180\n",
       "feb       171\n",
       "dec       171\n",
       "nov       171\n",
       "may       170\n",
       "sepsep      1\n",
       "marmar      1\n",
       "Name: Month, dtype: int64"
      ]
     },
     "execution_count": 34,
     "metadata": {},
     "output_type": "execute_result"
    }
   ],
   "source": [
    "shark1['Month'].value_counts() \n",
    "#Observo como quedan los datos que he conseguido y veo si necesitan una segunda limpieza"
   ]
  },
  {
   "cell_type": "code",
   "execution_count": 35,
   "id": "61dea2e1",
   "metadata": {},
   "outputs": [],
   "source": [
    "shark1.dropna(subset=['Month'], inplace=True) \n",
    "#Elimino mis NaN de entre los datos de los meses"
   ]
  },
  {
   "cell_type": "code",
   "execution_count": 36,
   "id": "0fdf622b",
   "metadata": {},
   "outputs": [],
   "source": [
    "for row in shark1['Month']:\n",
    "    if len(row) > 3:\n",
    "        shark1['Month'].replace(row,row[:3], inplace=True) #Busco meses con mas de 3 letras que serian los fallos \n",
    "    elif row == 'jut':\n",
    "        shark1['Month'].replace(row,'jun', inplace=True) #O con incorrecciones ortograficas"
   ]
  },
  {
   "cell_type": "code",
   "execution_count": 37,
   "id": "94084abd",
   "metadata": {},
   "outputs": [
    {
     "data": {
      "text/plain": [
       "jul    267\n",
       "aug    243\n",
       "sep    238\n",
       "jan    225\n",
       "jun    221\n",
       "oct    203\n",
       "apr    194\n",
       "mar    181\n",
       "feb    171\n",
       "dec    171\n",
       "nov    171\n",
       "may    170\n",
       "Name: Month, dtype: int64"
      ]
     },
     "execution_count": 37,
     "metadata": {},
     "output_type": "execute_result"
    }
   ],
   "source": [
    "shark1['Month'].value_counts(dropna=False) \n",
    "#Ahora mis datos ya estan limpios "
   ]
  },
  {
   "cell_type": "code",
   "execution_count": 38,
   "id": "dc13331a",
   "metadata": {},
   "outputs": [],
   "source": [
    "shark1 = shark1.drop(columns = ['Time','Species']) #Tras a ver profundizado en mi analisis elimino \n",
    "                                                          #estas tres columnas, no trabajare con ellas\n",
    "shark1.dropna(subset=['Activity','Country'],inplace=True) #Elimino NaN de estas filas nuevamente"
   ]
  },
  {
   "cell_type": "code",
   "execution_count": 39,
   "id": "50641735",
   "metadata": {},
   "outputs": [
    {
     "data": {
      "text/html": [
       "<div>\n",
       "<style scoped>\n",
       "    .dataframe tbody tr th:only-of-type {\n",
       "        vertical-align: middle;\n",
       "    }\n",
       "\n",
       "    .dataframe tbody tr th {\n",
       "        vertical-align: top;\n",
       "    }\n",
       "\n",
       "    .dataframe thead th {\n",
       "        text-align: right;\n",
       "    }\n",
       "</style>\n",
       "<table border=\"1\" class=\"dataframe\">\n",
       "  <thead>\n",
       "    <tr style=\"text-align: right;\">\n",
       "      <th></th>\n",
       "      <th>Date</th>\n",
       "      <th>Year</th>\n",
       "      <th>Type</th>\n",
       "      <th>Country</th>\n",
       "      <th>Activity</th>\n",
       "      <th>Sex</th>\n",
       "      <th>Fatal</th>\n",
       "      <th>Sharks</th>\n",
       "      <th>Month</th>\n",
       "    </tr>\n",
       "  </thead>\n",
       "  <tbody>\n",
       "    <tr>\n",
       "      <th>2512</th>\n",
       "      <td>02-Jan-1993</td>\n",
       "      <td>1993.0</td>\n",
       "      <td>UNPROVOKED</td>\n",
       "      <td>USA</td>\n",
       "      <td>Surfing</td>\n",
       "      <td>Male</td>\n",
       "      <td>NO</td>\n",
       "      <td>White shark</td>\n",
       "      <td>jan</td>\n",
       "    </tr>\n",
       "    <tr>\n",
       "      <th>623</th>\n",
       "      <td>12-Sep-2013</td>\n",
       "      <td>2013.0</td>\n",
       "      <td>UNPROVOKED</td>\n",
       "      <td>USA</td>\n",
       "      <td>Surfing</td>\n",
       "      <td>Female</td>\n",
       "      <td>NO</td>\n",
       "      <td>Other sharks</td>\n",
       "      <td>sep</td>\n",
       "    </tr>\n",
       "    <tr>\n",
       "      <th>1129</th>\n",
       "      <td>06-Mar-2009</td>\n",
       "      <td>2009.0</td>\n",
       "      <td>PROVOKED</td>\n",
       "      <td>BAHAMAS</td>\n",
       "      <td>Spearfishing</td>\n",
       "      <td>Male</td>\n",
       "      <td>NO</td>\n",
       "      <td>Other sharks</td>\n",
       "      <td>mar</td>\n",
       "    </tr>\n",
       "    <tr>\n",
       "      <th>4698</th>\n",
       "      <td>01-Nov-1942</td>\n",
       "      <td>1942.0</td>\n",
       "      <td>UNPROVOKED</td>\n",
       "      <td>SOUTH AFRICA</td>\n",
       "      <td>Swimming</td>\n",
       "      <td>Male</td>\n",
       "      <td>YES</td>\n",
       "      <td>White shark</td>\n",
       "      <td>nov</td>\n",
       "    </tr>\n",
       "    <tr>\n",
       "      <th>1032</th>\n",
       "      <td>19-Apr-2010</td>\n",
       "      <td>2010.0</td>\n",
       "      <td>UNPROVOKED</td>\n",
       "      <td>USA</td>\n",
       "      <td>Surfing</td>\n",
       "      <td>Male</td>\n",
       "      <td>NO</td>\n",
       "      <td>Other sharks</td>\n",
       "      <td>apr</td>\n",
       "    </tr>\n",
       "    <tr>\n",
       "      <th>4</th>\n",
       "      <td>04-Jun-2018</td>\n",
       "      <td>2018.0</td>\n",
       "      <td>PROVOKED</td>\n",
       "      <td>MEXICO</td>\n",
       "      <td>Free diving</td>\n",
       "      <td>Male</td>\n",
       "      <td>NO</td>\n",
       "      <td>Other sharks</td>\n",
       "      <td>jun</td>\n",
       "    </tr>\n",
       "    <tr>\n",
       "      <th>1404</th>\n",
       "      <td>25-Jan-2007</td>\n",
       "      <td>2007.0</td>\n",
       "      <td>UNPROVOKED</td>\n",
       "      <td>NEW CALEDONIA</td>\n",
       "      <td>Spearfishing (free diving)</td>\n",
       "      <td>Male</td>\n",
       "      <td>NO</td>\n",
       "      <td>Other sharks</td>\n",
       "      <td>jan</td>\n",
       "    </tr>\n",
       "    <tr>\n",
       "      <th>1390</th>\n",
       "      <td>09-Apr-2007</td>\n",
       "      <td>2007.0</td>\n",
       "      <td>UNPROVOKED</td>\n",
       "      <td>NEW CALEDONIA</td>\n",
       "      <td>Surfing</td>\n",
       "      <td>Male</td>\n",
       "      <td>NO</td>\n",
       "      <td>Other sharks</td>\n",
       "      <td>apr</td>\n",
       "    </tr>\n",
       "    <tr>\n",
       "      <th>1591</th>\n",
       "      <td>02-May-2005</td>\n",
       "      <td>2005.0</td>\n",
       "      <td>UNPROVOKED</td>\n",
       "      <td>USA</td>\n",
       "      <td>Surfing</td>\n",
       "      <td>Male</td>\n",
       "      <td>NO</td>\n",
       "      <td>Other sharks</td>\n",
       "      <td>may</td>\n",
       "    </tr>\n",
       "    <tr>\n",
       "      <th>2636</th>\n",
       "      <td>06-May-1990</td>\n",
       "      <td>1990.0</td>\n",
       "      <td>UNPROVOKED</td>\n",
       "      <td>SOUTH AFRICA</td>\n",
       "      <td>Resting on surfboard</td>\n",
       "      <td>Male</td>\n",
       "      <td>NO</td>\n",
       "      <td>White shark</td>\n",
       "      <td>may</td>\n",
       "    </tr>\n",
       "  </tbody>\n",
       "</table>\n",
       "</div>"
      ],
      "text/plain": [
       "              Date    Year        Type        Country  \\\n",
       "2512   02-Jan-1993  1993.0  UNPROVOKED            USA   \n",
       "623    12-Sep-2013  2013.0  UNPROVOKED            USA   \n",
       "1129   06-Mar-2009  2009.0    PROVOKED        BAHAMAS   \n",
       "4698   01-Nov-1942  1942.0  UNPROVOKED   SOUTH AFRICA   \n",
       "1032   19-Apr-2010  2010.0  UNPROVOKED            USA   \n",
       "4      04-Jun-2018  2018.0    PROVOKED         MEXICO   \n",
       "1404   25-Jan-2007  2007.0  UNPROVOKED  NEW CALEDONIA   \n",
       "1390   09-Apr-2007  2007.0  UNPROVOKED  NEW CALEDONIA   \n",
       "1591   02-May-2005  2005.0  UNPROVOKED            USA   \n",
       "2636   06-May-1990  1990.0  UNPROVOKED   SOUTH AFRICA   \n",
       "\n",
       "                        Activity     Sex Fatal        Sharks Month  \n",
       "2512                     Surfing    Male    NO   White shark   jan  \n",
       "623                      Surfing  Female    NO  Other sharks   sep  \n",
       "1129                Spearfishing    Male    NO  Other sharks   mar  \n",
       "4698                   Swimming     Male   YES   White shark   nov  \n",
       "1032                     Surfing    Male    NO  Other sharks   apr  \n",
       "4                    Free diving    Male    NO  Other sharks   jun  \n",
       "1404  Spearfishing (free diving)    Male    NO  Other sharks   jan  \n",
       "1390                     Surfing    Male    NO  Other sharks   apr  \n",
       "1591                     Surfing    Male    NO  Other sharks   may  \n",
       "2636        Resting on surfboard    Male    NO   White shark   may  "
      ]
     },
     "execution_count": 39,
     "metadata": {},
     "output_type": "execute_result"
    }
   ],
   "source": [
    "shark1.sample(10)"
   ]
  },
  {
   "cell_type": "code",
   "execution_count": 40,
   "id": "1686fbde",
   "metadata": {},
   "outputs": [
    {
     "data": {
      "text/plain": [
       "Surfing                                                                 536\n",
       "Swimming                                                                301\n",
       "Spearfishing                                                            187\n",
       "Fishing                                                                 160\n",
       "Wading                                                                   67\n",
       "                                                                       ... \n",
       "Hookah diving                                                             1\n",
       "Swimming, after falling off towed kneeboard                               1\n",
       "Removing shark from tank in nightclub                                     1\n",
       "Jumped off rocks into white water                                         1\n",
       "Accidentally thrown overboard & treading water while awaiting rescue      1\n",
       "Name: Activity, Length: 599, dtype: int64"
      ]
     },
     "execution_count": 40,
     "metadata": {},
     "output_type": "execute_result"
    }
   ],
   "source": [
    "#shark1.loc[(shark1['Activity'] == 'Nan')] \n",
    "shark1['Activity'].value_counts() #Parece que no aparecen un gran numero de Nan entre los valores"
   ]
  },
  {
   "cell_type": "code",
   "execution_count": 41,
   "id": "5f824811",
   "metadata": {},
   "outputs": [
    {
     "data": {
      "text/plain": [
       "1882.0     1\n",
       "1961.0    42\n",
       "1943.0     3\n",
       "1996.0    30\n",
       "1960.0    31\n",
       "1860.0     1\n",
       "2006.0    51\n",
       "1990.0    23\n",
       "1968.0    14\n",
       "1977.0    11\n",
       "Name: Year, dtype: int64"
      ]
     },
     "execution_count": 41,
     "metadata": {},
     "output_type": "execute_result"
    }
   ],
   "source": [
    "shark1[shark1['Year'].notnull()]['Year'].value_counts().sample(10)"
   ]
  },
  {
   "cell_type": "code",
   "execution_count": 42,
   "id": "262c782d",
   "metadata": {},
   "outputs": [
    {
     "data": {
      "text/plain": [
       "1882     1\n",
       "1930     3\n",
       "1911     1\n",
       "1892     2\n",
       "2018    37\n",
       "1968    14\n",
       "1914     4\n",
       "1963    35\n",
       "1971    12\n",
       "1932     5\n",
       "Name: Year, dtype: int64"
      ]
     },
     "execution_count": 42,
     "metadata": {},
     "output_type": "execute_result"
    }
   ],
   "source": [
    "#limpio year\n",
    "shark1['Year'].replace(0,np.nan,inplace=True)\n",
    "shark1['Year'] = pd.to_numeric(shark1['Year'], errors='coerce', downcast='integer')\n",
    "shark1['Year'].value_counts().sample(10)"
   ]
  },
  {
   "cell_type": "code",
   "execution_count": 43,
   "id": "563a7cba",
   "metadata": {},
   "outputs": [],
   "source": [
    "shark1 = shark1.drop(columns = ['Date']) \n",
    "#Elimino date, me quedo con la columna limpia de year como referencia tempora y con los meses"
   ]
  },
  {
   "cell_type": "code",
   "execution_count": 44,
   "id": "c7b84708",
   "metadata": {},
   "outputs": [],
   "source": [
    "#shark1 = shark1.set_index('Year') #me pone Year en index -No me interesa al final "
   ]
  },
  {
   "cell_type": "code",
   "execution_count": 45,
   "id": "225c86e3",
   "metadata": {},
   "outputs": [
    {
     "data": {
      "text/plain": [
       "array(['USA', 'AUSTRALIA', 'MEXICO', 'BRAZIL', 'ENGLAND', 'COSTA RICA',\n",
       "       'MALDIVES', 'SOUTH AFRICA', 'THAILAND', 'BAHAMAS', 'ECUADOR',\n",
       "       'NEW CALEDONIA', 'MALAYSIA', 'CUBA', 'NEW ZEALAND', 'SPAIN',\n",
       "       'EGYPT', 'REUNION', 'UNITED KINGDOM', 'PHILIPPINES', 'INDONESIA',\n",
       "       'COLUMBIA', 'FRENCH POLYNESIA', 'UNITED ARAB EMIRATES', 'JAPAN',\n",
       "       'ST. MARTIN', 'FRANCE', 'BELIZE', 'JAMAICA', 'TONGA', 'SCOTLAND',\n",
       "       'TAIWAN', 'PAPUA NEW GUINEA', 'RUSSIA', 'SEYCHELLES',\n",
       "       'TURKS & CAICOS', 'MALTA', 'VIETNAM', 'MOZAMBIQUE', 'GUAM',\n",
       "       'CROATIA', 'PANAMA', 'SOLOMON ISLANDS', 'NORWAY', 'Sierra Leone',\n",
       "       'FIJI', 'ATLANTIC OCEAN', 'ST. MAARTIN', 'GRAND CAYMAN', 'CHINA',\n",
       "       'VANUATU', 'SOUTH KOREA', 'MADAGASCAR', ' TONGA', 'URUGUAY',\n",
       "       'VENEZUELA', 'INDIA', 'MICRONESIA', 'CANADA', 'OKINAWA',\n",
       "       'TANZANIA', 'MARSHALL ISLANDS', 'MAURITIUS', 'EGYPT / ISRAEL',\n",
       "       'HONG KONG', 'CHILE', 'CARIBBEAN SEA', 'ITALY', 'Fiji', 'KENYA',\n",
       "       'PORTUGAL', 'SOUTH CHINA SEA', 'ISRAEL', 'WESTERN SAMOA',\n",
       "       'BRITISH ISLES', 'PALAU', 'NEW BRITAIN', 'JOHNSTON ISLAND',\n",
       "       'NEW GUINEA', 'RED SEA', 'FEDERATED STATES OF MICRONESIA',\n",
       "       'GREECE', 'BRITISH WEST INDIES', 'MID ATLANTIC OCEAN',\n",
       "       'PERSIAN GULF', 'BERMUDA', 'NORTH PACIFIC OCEAN', 'NORTH SEA',\n",
       "       'AMERICAN SAMOA', 'ANDAMAN / NICOBAR ISLANDAS', 'PACIFIC OCEAN',\n",
       "       'SENEGAL', 'MONTENEGRO', 'YEMEN', 'ARGENTINA',\n",
       "       'NETHERLANDS ANTILLES', 'EL SALVADOR', 'IRAN', 'INDIAN OCEAN',\n",
       "       'SOUTHWEST PACIFIC OCEAN', 'SOUTH ATLANTIC OCEAN', 'IRAQ', 'HAITI',\n",
       "       'NORTH ATLANTIC OCEAN', 'CYPRUS', 'GEORGIA'], dtype=object)"
      ]
     },
     "execution_count": 45,
     "metadata": {},
     "output_type": "execute_result"
    }
   ],
   "source": [
    "shark1['Country'].unique() #trato de dejar mejor los datos sobre paises"
   ]
  },
  {
   "cell_type": "code",
   "execution_count": 46,
   "id": "0a3fbee9",
   "metadata": {},
   "outputs": [],
   "source": [
    "shark1['Country'] = shark1['Country'].str.strip()\n",
    "shark1['Country'] = shark1['Country'].str.upper()\n",
    "shark1['Country'].replace(to_replace=['.*OCEAN','.* SEA'],value=np.nan,regex=True,inplace=True) \n",
    "#Elimino los ataques en mares y oceanos pues no son paises"
   ]
  },
  {
   "cell_type": "code",
   "execution_count": 47,
   "id": "744d7ecf",
   "metadata": {},
   "outputs": [
    {
     "data": {
      "text/plain": [
       "array(['USA', 'AUSTRALIA', 'MEXICO', 'BRAZIL', 'ENGLAND', 'COSTA RICA',\n",
       "       'MALDIVES', 'SOUTH AFRICA', 'THAILAND', 'BAHAMAS', 'ECUADOR',\n",
       "       'NEW CALEDONIA', 'MALAYSIA', 'CUBA', 'NEW ZEALAND', 'SPAIN',\n",
       "       'EGYPT', 'REUNION', 'UNITED KINGDOM', 'PHILIPPINES', 'INDONESIA',\n",
       "       'COLUMBIA', 'FRENCH POLYNESIA', 'UNITED ARAB EMIRATES', 'JAPAN',\n",
       "       'ST. MARTIN', 'FRANCE', 'BELIZE', 'JAMAICA', 'TONGA', 'SCOTLAND',\n",
       "       'TAIWAN', 'PAPUA NEW GUINEA', 'RUSSIA', 'SEYCHELLES',\n",
       "       'TURKS & CAICOS', 'MALTA', 'VIETNAM', 'MOZAMBIQUE', 'GUAM',\n",
       "       'CROATIA', 'PANAMA', 'SOLOMON ISLANDS', 'NORWAY', 'SIERRA LEONE',\n",
       "       'FIJI', nan, 'ST. MAARTIN', 'GRAND CAYMAN', 'CHINA', 'VANUATU',\n",
       "       'SOUTH KOREA', 'MADAGASCAR', 'URUGUAY', 'VENEZUELA', 'INDIA',\n",
       "       'MICRONESIA', 'CANADA', 'OKINAWA', 'TANZANIA', 'MARSHALL ISLANDS',\n",
       "       'MAURITIUS', 'EGYPT / ISRAEL', 'HONG KONG', 'CHILE', 'ITALY',\n",
       "       'KENYA', 'PORTUGAL', 'ISRAEL', 'WESTERN SAMOA', 'BRITISH ISLES',\n",
       "       'PALAU', 'NEW BRITAIN', 'JOHNSTON ISLAND', 'NEW GUINEA',\n",
       "       'FEDERATED STATES OF MICRONESIA', 'GREECE', 'BRITISH WEST INDIES',\n",
       "       'PERSIAN GULF', 'BERMUDA', 'AMERICAN SAMOA',\n",
       "       'ANDAMAN / NICOBAR ISLANDAS', 'SENEGAL', 'MONTENEGRO', 'YEMEN',\n",
       "       'ARGENTINA', 'NETHERLANDS ANTILLES', 'EL SALVADOR', 'IRAN', 'IRAQ',\n",
       "       'HAITI', 'CYPRUS', 'GEORGIA'], dtype=object)"
      ]
     },
     "execution_count": 47,
     "metadata": {},
     "output_type": "execute_result"
    }
   ],
   "source": [
    "shark1['Country'].unique() #Datos de paises limpios"
   ]
  },
  {
   "cell_type": "code",
   "execution_count": 48,
   "id": "56bd942b",
   "metadata": {},
   "outputs": [
    {
     "data": {
      "text/html": [
       "<div>\n",
       "<style scoped>\n",
       "    .dataframe tbody tr th:only-of-type {\n",
       "        vertical-align: middle;\n",
       "    }\n",
       "\n",
       "    .dataframe tbody tr th {\n",
       "        vertical-align: top;\n",
       "    }\n",
       "\n",
       "    .dataframe thead th {\n",
       "        text-align: right;\n",
       "    }\n",
       "</style>\n",
       "<table border=\"1\" class=\"dataframe\">\n",
       "  <thead>\n",
       "    <tr style=\"text-align: right;\">\n",
       "      <th></th>\n",
       "      <th>Year</th>\n",
       "      <th>Type</th>\n",
       "      <th>Country</th>\n",
       "      <th>Activity</th>\n",
       "      <th>Sex</th>\n",
       "      <th>Fatal</th>\n",
       "      <th>Sharks</th>\n",
       "      <th>Month</th>\n",
       "    </tr>\n",
       "  </thead>\n",
       "  <tbody>\n",
       "    <tr>\n",
       "      <th>1342</th>\n",
       "      <td>2007</td>\n",
       "      <td>PROVOKED</td>\n",
       "      <td>USA</td>\n",
       "      <td>Diving</td>\n",
       "      <td>Male</td>\n",
       "      <td>NO</td>\n",
       "      <td>Other sharks</td>\n",
       "      <td>aug</td>\n",
       "    </tr>\n",
       "    <tr>\n",
       "      <th>2107</th>\n",
       "      <td>1999</td>\n",
       "      <td>UNPROVOKED</td>\n",
       "      <td>MARSHALL ISLANDS</td>\n",
       "      <td>Fishing</td>\n",
       "      <td>Male</td>\n",
       "      <td>NO</td>\n",
       "      <td>Other sharks</td>\n",
       "      <td>aug</td>\n",
       "    </tr>\n",
       "    <tr>\n",
       "      <th>886</th>\n",
       "      <td>2011</td>\n",
       "      <td>UNPROVOKED</td>\n",
       "      <td>SEYCHELLES</td>\n",
       "      <td>Swimming or Snorkeling</td>\n",
       "      <td>Male</td>\n",
       "      <td>YES</td>\n",
       "      <td>Other sharks</td>\n",
       "      <td>aug</td>\n",
       "    </tr>\n",
       "    <tr>\n",
       "      <th>1505</th>\n",
       "      <td>2006</td>\n",
       "      <td>BOAT</td>\n",
       "      <td>USA</td>\n",
       "      <td>Kayaking</td>\n",
       "      <td>Male</td>\n",
       "      <td>NO</td>\n",
       "      <td>Other sharks</td>\n",
       "      <td>feb</td>\n",
       "    </tr>\n",
       "  </tbody>\n",
       "</table>\n",
       "</div>"
      ],
      "text/plain": [
       "      Year        Type           Country                Activity   Sex Fatal  \\\n",
       "1342  2007    PROVOKED               USA                  Diving  Male    NO   \n",
       "2107  1999  UNPROVOKED  MARSHALL ISLANDS                 Fishing  Male    NO   \n",
       "886   2011  UNPROVOKED        SEYCHELLES  Swimming or Snorkeling  Male   YES   \n",
       "1505  2006        BOAT               USA                Kayaking  Male    NO   \n",
       "\n",
       "            Sharks Month  \n",
       "1342  Other sharks   aug  \n",
       "2107  Other sharks   aug  \n",
       "886   Other sharks   aug  \n",
       "1505  Other sharks   feb  "
      ]
     },
     "execution_count": 48,
     "metadata": {},
     "output_type": "execute_result"
    }
   ],
   "source": [
    "shark1.sample(4) #El dataframe limpio presenta este aspecto,en base a el intentare demostrar mis hipotesis"
   ]
  },
  {
   "cell_type": "code",
   "execution_count": 49,
   "id": "d02ae2c6",
   "metadata": {},
   "outputs": [
    {
     "data": {
      "text/plain": [
       "(2398, 8)"
      ]
     },
     "execution_count": 49,
     "metadata": {},
     "output_type": "execute_result"
    }
   ],
   "source": [
    "shark1.shape"
   ]
  },
  {
   "cell_type": "code",
   "execution_count": 50,
   "id": "60ad5416",
   "metadata": {},
   "outputs": [],
   "source": [
    "shark1.to_csv(\"shark_limpio.csv\",index=False) \n",
    "#Guardo el dataframe ya limpio como un csv"
   ]
  },
  {
   "cell_type": "code",
   "execution_count": null,
   "id": "bd1eb7c0",
   "metadata": {},
   "outputs": [],
   "source": []
  },
  {
   "cell_type": "code",
   "execution_count": null,
   "id": "bcedd02d",
   "metadata": {},
   "outputs": [],
   "source": []
  },
  {
   "cell_type": "code",
   "execution_count": null,
   "id": "752f722d",
   "metadata": {},
   "outputs": [],
   "source": []
  }
 ],
 "metadata": {
  "kernelspec": {
   "display_name": "ironhack",
   "language": "python",
   "name": "ironhack"
  },
  "language_info": {
   "codemirror_mode": {
    "name": "ipython",
    "version": 3
   },
   "file_extension": ".py",
   "mimetype": "text/x-python",
   "name": "python",
   "nbconvert_exporter": "python",
   "pygments_lexer": "ipython3",
   "version": "3.8.10"
  }
 },
 "nbformat": 4,
 "nbformat_minor": 5
}
