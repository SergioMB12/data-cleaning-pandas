{
 "cells": [
  {
   "cell_type": "markdown",
   "metadata": {},
   "source": [
    "# Proyecto shark attacks Ironhack:\n",
    "\n",
    "-Analisis de mis datos y graficos de apoyo (comprobación hipotesis)\n",
    "\n",
    "Sergio Molina Biaggini"
   ]
  },
  {
   "cell_type": "code",
   "execution_count": 2,
   "metadata": {},
   "outputs": [],
   "source": [
    "import pandas as pd\n",
    "import numpy as np\n",
    "import matplotlib.pyplot as plt\n",
    "import seaborn as sns\n",
    "import re\n",
    "shark2 = pd.read_csv('../work/shark_limpio.csv',encoding = \"ISO-8859-1\")"
   ]
  },
  {
   "cell_type": "code",
   "execution_count": 4,
   "metadata": {},
   "outputs": [
    {
     "data": {
      "text/html": [
       "<div>\n",
       "<style scoped>\n",
       "    .dataframe tbody tr th:only-of-type {\n",
       "        vertical-align: middle;\n",
       "    }\n",
       "\n",
       "    .dataframe tbody tr th {\n",
       "        vertical-align: top;\n",
       "    }\n",
       "\n",
       "    .dataframe thead th {\n",
       "        text-align: right;\n",
       "    }\n",
       "</style>\n",
       "<table border=\"1\" class=\"dataframe\">\n",
       "  <thead>\n",
       "    <tr style=\"text-align: right;\">\n",
       "      <th></th>\n",
       "      <th>Year</th>\n",
       "      <th>Type</th>\n",
       "      <th>Country</th>\n",
       "      <th>Activity</th>\n",
       "      <th>Sex</th>\n",
       "      <th>Fatal</th>\n",
       "      <th>Sharks</th>\n",
       "      <th>Month</th>\n",
       "    </tr>\n",
       "  </thead>\n",
       "  <tbody>\n",
       "    <tr>\n",
       "      <th>237</th>\n",
       "      <td>2015</td>\n",
       "      <td>UNPROVOKED</td>\n",
       "      <td>AUSTRALIA</td>\n",
       "      <td>Bodysurfing</td>\n",
       "      <td>Male</td>\n",
       "      <td>NO</td>\n",
       "      <td>Other sharks</td>\n",
       "      <td>feb</td>\n",
       "    </tr>\n",
       "    <tr>\n",
       "      <th>1090</th>\n",
       "      <td>2000</td>\n",
       "      <td>UNPROVOKED</td>\n",
       "      <td>USA</td>\n",
       "      <td>Surfing / Wading</td>\n",
       "      <td>Male</td>\n",
       "      <td>NO</td>\n",
       "      <td>Other sharks</td>\n",
       "      <td>aug</td>\n",
       "    </tr>\n",
       "    <tr>\n",
       "      <th>1925</th>\n",
       "      <td>1961</td>\n",
       "      <td>UNPROVOKED</td>\n",
       "      <td>AUSTRALIA</td>\n",
       "      <td>Standing</td>\n",
       "      <td>Male</td>\n",
       "      <td>NO</td>\n",
       "      <td>Other sharks</td>\n",
       "      <td>dec</td>\n",
       "    </tr>\n",
       "    <tr>\n",
       "      <th>244</th>\n",
       "      <td>2015</td>\n",
       "      <td>UNPROVOKED</td>\n",
       "      <td>SOUTH AFRICA</td>\n",
       "      <td>Surfing</td>\n",
       "      <td>Male</td>\n",
       "      <td>NO</td>\n",
       "      <td>Other sharks</td>\n",
       "      <td>jan</td>\n",
       "    </tr>\n",
       "    <tr>\n",
       "      <th>2170</th>\n",
       "      <td>1944</td>\n",
       "      <td>UNPROVOKED</td>\n",
       "      <td>SOUTH AFRICA</td>\n",
       "      <td>Swimming</td>\n",
       "      <td>Male</td>\n",
       "      <td>YES</td>\n",
       "      <td>White shark</td>\n",
       "      <td>jul</td>\n",
       "    </tr>\n",
       "  </tbody>\n",
       "</table>\n",
       "</div>"
      ],
      "text/plain": [
       "      Year        Type       Country          Activity   Sex Fatal  \\\n",
       "237   2015  UNPROVOKED     AUSTRALIA       Bodysurfing  Male    NO   \n",
       "1090  2000  UNPROVOKED           USA  Surfing / Wading  Male    NO   \n",
       "1925  1961  UNPROVOKED     AUSTRALIA          Standing  Male    NO   \n",
       "244   2015  UNPROVOKED  SOUTH AFRICA           Surfing  Male    NO   \n",
       "2170  1944  UNPROVOKED  SOUTH AFRICA          Swimming  Male   YES   \n",
       "\n",
       "            Sharks Month  \n",
       "237   Other sharks   feb  \n",
       "1090  Other sharks   aug  \n",
       "1925  Other sharks   dec  \n",
       "244   Other sharks   jan  \n",
       "2170   White shark   jul  "
      ]
     },
     "execution_count": 4,
     "metadata": {},
     "output_type": "execute_result"
    }
   ],
   "source": [
    "shark2.sample(5)\n",
    "#Compruebo si se ha cargado correctamente mi archivo ya limpio, "
   ]
  },
  {
   "cell_type": "markdown",
   "metadata": {},
   "source": [
    "## Muestra de graficos "
   ]
  },
  {
   "cell_type": "markdown",
   "metadata": {},
   "source": [
    "### 1 -Ataques por sexo"
   ]
  },
  {
   "cell_type": "code",
   "execution_count": 3,
   "metadata": {},
   "outputs": [],
   "source": [
    "#h1-los tiburones son mas agresivos en verano y descansan en invierno(meses) \n",
    "#h2-los tiburones blancos tienen mala fama pero no son los peores - salvar \n",
    "#h3-que pais mas ataques , o son mas locos \n",
    "#h4-typo ataque mas comunes"
   ]
  },
  {
   "cell_type": "code",
   "execution_count": 4,
   "metadata": {},
   "outputs": [
    {
     "data": {
      "image/png": "[encoded data removed]",
      "text/plain": [
       "<Figure size 432x288 with 1 Axes>"
      ]
     },
     "metadata": {},
     "output_type": "display_data"
    }
   ],
   "source": [
    "shark2[shark2['Sex'].notnull()].shape[0]\n",
    "shark3 = shark2['Sex'].value_counts(normalize=True)*100\n",
    "grafico_sex = shark3.plot.pie(autopct='%1.2f%%')\n",
    "grafico_sex.figure.savefig(\"../Figuras/grafico_sex.jpg\")\n",
    "#Ataques por genero "
   ]
  },
  {
   "cell_type": "markdown",
   "metadata": {},
   "source": [
    "Podemos observar como practicamente el 88% de los ataques registrados han sido a varones.La cifra es abrumadora, ¿Sera el tiburon un amante de la carne, solo de hombres?. Los datos lo cierto es que no nos aportan por ahora información suficiente para llegar a una conclusión."
   ]
  },
  {
   "cell_type": "markdown",
   "metadata": {},
   "source": [
    "### 2-Ataques por actividad"
   ]
  },
  {
   "cell_type": "code",
   "execution_count": 5,
   "metadata": {},
   "outputs": [
    {
     "data": {
      "image/png": "[encoded data removed]",
      "text/plain": [
       "<Figure size 432x288 with 1 Axes>"
      ]
     },
     "metadata": {
      "needs_background": "light"
     },
     "output_type": "display_data"
    }
   ],
   "source": [
    "grafico_actividad = shark2['Activity'].value_counts().head(20).plot(kind='barh')\n",
    "grafico_actividad\n",
    "grafico_actividad.figure.savefig(\"../Figuras/grafico_actividad.jpg\")"
   ]
  },
  {
   "cell_type": "markdown",
   "metadata": {},
   "source": [
    "Como se observa claramente en este gráfico.Los surfistas son los más afectados por los ataques de tiburón.Con una clara diferencia con respecto a los nadadores, en segundo lugar y respecto a los percadores, en tercer lugar.Todas estas actividades implican presencia de seres humanos en habitat de tiburones.Los surfistas además suelen adentrarse más profundo que los nadadores, y el uso de la tabla, les puede llegar a parecerse a focas vistas desde la perspectiva submarina de un tiburón.\n",
    "\n",
    "Sin embargo lo cierto es que aun no llegamos a una conclusión y seguimos con la duda de si los tiburones tienene preferencia por la carne de hombre, como vimo en el punto 1."
   ]
  },
  {
   "cell_type": "markdown",
   "metadata": {},
   "source": [
    "### 3-Ataques por meses"
   ]
  },
  {
   "cell_type": "code",
   "execution_count": 6,
   "metadata": {},
   "outputs": [
    {
     "data": {
      "image/png": "[encoded data removed]",
      "text/plain": [
       "<Figure size 432x432 with 1 Axes>"
      ]
     },
     "metadata": {
      "needs_background": "light"
     },
     "output_type": "display_data"
    }
   ],
   "source": [
    "%matplotlib inline\n",
    "plt.figure(figsize=[6,6])\n",
    "grafico_meses = sns.countplot(x='Month', data=shark2, palette='Set1',order= ['jan','feb','mar','apr','may','jun','jul','aug','sep','oct','nov','dec'])\n",
    "plt.xlabel('Month')\n",
    "plt.ylabel ('Ocurrencies')\n",
    "plt.title('Shark attacks by season')\n",
    "grafico_meses.figure.savefig(\"../Figuras/grafico_meses.jpg\")"
   ]
  },
  {
   "cell_type": "markdown",
   "metadata": {},
   "source": [
    "Continuando con el analisis observamos ahora una grafica del numero de ataques registrados agrupados por meses.Se observa como los meses en los que los ataques son más elevados son los meses comprendidos entre [Junio-Septiembre] con un interesante repunte en enero.Estos datos junto con los anteriormente mostrados me ayudan a sustentar mi hipotesis \"¿Son los tiburones unos asesinos de humanos por gusto?\".Como hemos visto los surfistas son los más afectados por ataques, estos invaden de manera clara el habitat del tiburón por lo que no es un ataque en si, es mas bien un encontronazo lo que se da entre los surfistas y estos animales.\n",
    "\n",
    "\n",
    "También hemos visto que los meses de ataque preferidos de los tiburones son los que coinciden con epocas como verano ( periodo de vacaciones para mucha gente) y sorprendentemente enero ( otro momento donde la gente suele tener vacaciones).Esto vendría a apoyar nuestra hipotesis.Ya que vemos como los ataques aumentan cuando la presencia de seres humanos en el habitat de los tiburones es mayor.No son estos quienes deciden buscar y cazar seres humanos. Y en parte podría explicar la preferencia de los tiburones por la carne de hombres, ya que el numero de hombres practicando surf es mayor que el de mujeres."
   ]
  },
  {
   "cell_type": "markdown",
   "metadata": {},
   "source": [
    "### 4 - Ataques fatales (yes/no)"
   ]
  },
  {
   "cell_type": "code",
   "execution_count": 7,
   "metadata": {},
   "outputs": [
    {
     "data": {
      "image/png": "[encoded data removed]",
      "text/plain": [
       "<Figure size 432x288 with 1 Axes>"
      ]
     },
     "metadata": {},
     "output_type": "display_data"
    }
   ],
   "source": [
    "shark2[shark2['Fatal'].notnull()].shape[0]\n",
    "grafico_fatal = shark2['Fatal'].value_counts(normalize=True)*100\n",
    "grafico_fatal = grafico_fatal.plot.pie(autopct='%1.2f%%')\n",
    "grafico_fatal.figure.savefig(\"../Figuras/grafico_fatal.jpg\")"
   ]
  },
  {
   "cell_type": "markdown",
   "metadata": {},
   "source": [
    "Continuando con el analisis, obtenemos este grafico sobre la fatalidad de los ataques de tiburón.El porcentaje de muertes provocadas por los tiburones a lo largo de los años, es insignificante en comparación con las personas que han sobrevivido.Tan solo un 14,5% de los ataques acabaron con la muerte de una persona.\n",
    "\n",
    "Esto vendría a apoyar nuestra primera hipótesis ya que no solo no atacan por gusto a las personas, si no que en la mayoría de los casos estos ataques no tienen consecuencias fatales y nuestra segunda hipotesis \"¿Atacan para comernos los tiburones?\".El hecho de que no acaben en muerte la mayoria de los ataques parece indicarnos que los tiburones atacan y se suelen apartar del lugar, no tratan de acabar con su presa y llevarsela con sigo para poder deborarla como hacen cuando realmente si quieren comer."
   ]
  },
  {
   "cell_type": "markdown",
   "metadata": {},
   "source": [
    "### 5-DataFrame ataques por paises"
   ]
  },
  {
   "cell_type": "code",
   "execution_count": 8,
   "metadata": {},
   "outputs": [
    {
     "data": {
      "text/html": [
       "<div>\n",
       "<style scoped>\n",
       "    .dataframe tbody tr th:only-of-type {\n",
       "        vertical-align: middle;\n",
       "    }\n",
       "\n",
       "    .dataframe tbody tr th {\n",
       "        vertical-align: top;\n",
       "    }\n",
       "\n",
       "    .dataframe thead th {\n",
       "        text-align: right;\n",
       "    }\n",
       "</style>\n",
       "<table border=\"1\" class=\"dataframe\">\n",
       "  <thead>\n",
       "    <tr style=\"text-align: right;\">\n",
       "      <th></th>\n",
       "      <th>countries</th>\n",
       "      <th>attacks</th>\n",
       "    </tr>\n",
       "  </thead>\n",
       "  <tbody>\n",
       "    <tr>\n",
       "      <th>0</th>\n",
       "      <td>USA</td>\n",
       "      <td>1014</td>\n",
       "    </tr>\n",
       "    <tr>\n",
       "      <th>1</th>\n",
       "      <td>AUSTRALIA</td>\n",
       "      <td>561</td>\n",
       "    </tr>\n",
       "    <tr>\n",
       "      <th>2</th>\n",
       "      <td>SOUTH AFRICA</td>\n",
       "      <td>297</td>\n",
       "    </tr>\n",
       "    <tr>\n",
       "      <th>3</th>\n",
       "      <td>BAHAMAS</td>\n",
       "      <td>58</td>\n",
       "    </tr>\n",
       "    <tr>\n",
       "      <th>4</th>\n",
       "      <td>NEW ZEALAND</td>\n",
       "      <td>50</td>\n",
       "    </tr>\n",
       "    <tr>\n",
       "      <th>5</th>\n",
       "      <td>PAPUA NEW GUINEA</td>\n",
       "      <td>28</td>\n",
       "    </tr>\n",
       "    <tr>\n",
       "      <th>6</th>\n",
       "      <td>BRAZIL</td>\n",
       "      <td>28</td>\n",
       "    </tr>\n",
       "    <tr>\n",
       "      <th>7</th>\n",
       "      <td>REUNION</td>\n",
       "      <td>26</td>\n",
       "    </tr>\n",
       "  </tbody>\n",
       "</table>\n",
       "</div>"
      ],
      "text/plain": [
       "          countries  attacks\n",
       "0               USA     1014\n",
       "1         AUSTRALIA      561\n",
       "2      SOUTH AFRICA      297\n",
       "3           BAHAMAS       58\n",
       "4       NEW ZEALAND       50\n",
       "5  PAPUA NEW GUINEA       28\n",
       "6            BRAZIL       28\n",
       "7           REUNION       26"
      ]
     },
     "execution_count": 8,
     "metadata": {},
     "output_type": "execute_result"
    }
   ],
   "source": [
    "attacks_country = shark2['Country'].value_counts().to_frame().reset_index()\n",
    "attacks_country.columns = ['countries','attacks']\n",
    "#attacks_by_country['name'].replace('USA','UNITED STATES OF AMERICA',inplace=True)\n",
    "ataques_per_country = attacks_country.head(8)\n",
    "ataques_per_country.to_csv(\"ataques_per_country.csv\",index=False) \n",
    "ataques_per_country"
   ]
  },
  {
   "cell_type": "markdown",
   "metadata": {},
   "source": [
    "### 6-Grafico ataques por paises"
   ]
  },
  {
   "cell_type": "code",
   "execution_count": 9,
   "metadata": {},
   "outputs": [
    {
     "data": {
      "image/png": "[encoded data removed]",
      "text/plain": [
       "<Figure size 864x288 with 1 Axes>"
      ]
     },
     "metadata": {
      "needs_background": "light"
     },
     "output_type": "display_data"
    }
   ],
   "source": [
    "plt.figure(figsize=(12,4))\n",
    "grafico_ataques_per = sns.barplot(x='countries',y='attacks', data=attacks_country.head(8), palette='Set1');\n",
    "plt.xlabel('Countries')\n",
    "plt.ylabel ('Attacks')\n",
    "plt.title('Shark attacks per Country')\n",
    "plt.xticks(rotation=45);\n",
    "grafico_ataques_per.figure.savefig(\"../Figuras/grafico_ataques_per.jpg\")"
   ]
  },
  {
   "cell_type": "markdown",
   "metadata": {},
   "source": [
    "Ahora tenemos una imagen de un dataframe real de pandas generado a partir de los datos originales donde se observan los ataques por pais.Y tambien un grafico donde se viene a ver lo mismo que en el dataframe de manera más visual.Se observa como USA esta a la cabeza.Siendo el lugar donde más gente hay con respecto a los otros paises donde se han registrado el resto de ataques."
   ]
  },
  {
   "cell_type": "markdown",
   "metadata": {},
   "source": [
    "### 7-Ataques a lo largo del tiempo "
   ]
  },
  {
   "cell_type": "code",
   "execution_count": 10,
   "metadata": {},
   "outputs": [
    {
     "data": {
      "image/png": "[encoded data removed]",
      "text/plain": [
       "<Figure size 432x432 with 1 Axes>"
      ]
     },
     "metadata": {
      "needs_background": "light"
     },
     "output_type": "display_data"
    }
   ],
   "source": [
    "#%matplotlib inline\n",
    "plt.figure(figsize=(6,6))\n",
    "histo_years = sns.histplot(x='Year', data=shark2, palette='Set1')\n",
    "plt.xlabel('Years')\n",
    "plt.ylabel ('Attacks')\n",
    "plt.title('Shark attacks during years')\n",
    "histo_years.figure.savefig(\"../Figuras/histo_years.jpg\")\n"
   ]
  },
  {
   "cell_type": "markdown",
   "metadata": {},
   "source": [
    "En este grafico donde se registran los ataques por año de los tiburones, se observa como aumentan de manera muy importante con el aumento de los años.Esto coincide con el aumento de seres humanos en el mundo y sobre todo con su mayor intromisioón en el habitatd de los tiburones."
   ]
  },
  {
   "cell_type": "markdown",
   "metadata": {},
   "source": [
    "### 8-Ataques del tiburón blanco"
   ]
  },
  {
   "cell_type": "code",
   "execution_count": 3,
   "metadata": {},
   "outputs": [
    {
     "data": {
      "image/png": "[encoded data removed]",
      "text/plain": [
       "<Figure size 432x288 with 1 Axes>"
      ]
     },
     "metadata": {},
     "output_type": "display_data"
    }
   ],
   "source": [
    "shark2[shark2['Sharks'].notnull()].shape[0]\n",
    "shark3 = shark2['Sharks'].value_counts(normalize=True)*100\n",
    "grafico_blanco = shark3.plot.pie(autopct='%1.2f%%')\n",
    "grafico_blanco.figure.savefig(\"../Figuras/grafico_blanco.jpg\")"
   ]
  },
  {
   "cell_type": "markdown",
   "metadata": {},
   "source": [
    "Este ultimo grafico viene a responder a mi tercera hipotesis \"¿Es realmente el tiburon blanco mucho mas feroz que el resto?\".Como se puede observar en este grafico el numero de ataques a manos de tiburones blancos representa un 22 % del total de los ataques. Esto me recuerda al dicho populra \" ni los buenos son tan buenos, ni los malos son tan malos\".Y vendría a decirnos que ni siquiera este conocido depredador no es en realidad un asesino en serie de personas si no que ataca como respuesta a la presencia humana en su habitat al igual que el resto."
   ]
  },
  {
   "cell_type": "markdown",
   "metadata": {},
   "source": [
    "## Conclusión"
   ]
  },
  {
   "cell_type": "markdown",
   "metadata": {},
   "source": [
    "En conclusión y a la vista de los datos, he de decir que pienso que los tiburones no son unos asesinos de humanos.La mayoría de ataques se producen en momentos y lugares en los que el ser humano esta invadiendo el habitad de los tiburones, y no al revés.También hemos visto como estos ataques en general no acaban en muerte, lo que apoya que estos ataques son fruto de una defensa de su territorio y no un ataque para comer o matar.Por lo tanto creo que debemos aprender a convivir con estos animales y a dejarles su espacio y habitat tranquilos.Y no calificarlos de asesinos sin razon alguna.\n",
    "\n"
   ]
  },
  {
   "cell_type": "code",
   "execution_count": null,
   "metadata": {},
   "outputs": [],
   "source": []
  }
 ],
 "metadata": {
  "kernelspec": {
   "display_name": "ironhack",
   "language": "python",
   "name": "ironhack"
  },
  "language_info": {
   "codemirror_mode": {
    "name": "ipython",
    "version": 3
   },
   "file_extension": ".py",
   "mimetype": "text/x-python",
   "name": "python",
   "nbconvert_exporter": "python",
   "pygments_lexer": "ipython3",
   "version": "3.8.10"
  }
 },
 "nbformat": 4,
 "nbformat_minor": 2
}
